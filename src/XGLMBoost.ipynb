{
 "cells": [
  {
   "cell_type": "markdown",
   "metadata": {},
   "source": [
    "<font size=\"6\">\n",
    "<p align=\"center\"><b>XGLMBoost</b> <br>\n",
    "Ein Versuch der Kombination von GLM und XGBoost</p>"
   ]
  },
  {
   "cell_type": "markdown",
   "metadata": {},
   "source": [
    "# Abbildungsverzeichnis <a class=\"anchor\" id=\"abbildungsverzeichnis\"></a>"
   ]
  },
  {
   "cell_type": "markdown",
   "metadata": {},
   "source": [
    "# Dependencies <a class=\"anchor\" id=\"dependencies\"></a>"
   ]
  },
  {
   "cell_type": "markdown",
   "metadata": {},
   "source": [
    "<font size=\"3\">\n",
    "Zur Ausführung des Codes in diesem Notebook sind die folgenden Bibliotheken notwendig:"
   ]
  },
  {
   "cell_type": "code",
   "execution_count": 2,
   "metadata": {},
   "outputs": [
    {
     "name": "stderr",
     "output_type": "stream",
     "text": [
      "2023-08-31 19:02:51.200385: I tensorflow/core/platform/cpu_feature_guard.cc:193] This TensorFlow binary is optimized with oneAPI Deep Neural Network Library (oneDNN) to use the following CPU instructions in performance-critical operations:  SSE4.1 SSE4.2 AVX AVX2 AVX512F AVX512_VNNI FMA\n",
      "To enable them in other operations, rebuild TensorFlow with the appropriate compiler flags.\n"
     ]
    }
   ],
   "source": [
    "import numpy as np\n",
    "import pandas as pd\n",
    "import math\n",
    "import os\n",
    "import random\n",
    "import tensorflow as tf\n",
    "import matplotlib.pyplot as plt\n",
    "from matplotlib import patches\n",
    "from matplotlib.gridspec import GridSpec\n",
    "from sklearn.linear_model import LinearRegression,PoissonRegressor\n",
    "from sklearn.metrics import r2_score, mean_absolute_error, mean_squared_error\n",
    "from sklearn.model_selection import GridSearchCV, train_test_split\n",
    "from sklearn.preprocessing import StandardScaler\n",
    "from matplotlib.gridspec import GridSpec\n",
    "from sklearn.tree import DecisionTreeRegressor, plot_tree\n",
    "from sklearn.ensemble import RandomForestRegressor, GradientBoostingRegressor"
   ]
  },
  {
   "cell_type": "markdown",
   "metadata": {},
   "source": [
    "<hr>\n",
    "\n",
    "# 1. Einleitung <a class=\"anchor\" id=\"1-bullet\"></a>\n",
    "\n",
    "<hr>"
   ]
  },
  {
   "cell_type": "markdown",
   "metadata": {},
   "source": [
    "<font size=\"3\">\n",
    "<em>XGLMBoost</em>  ist eine neuartige Erweiterung für generalisierte lineare Modelle (GLM), die auf dem Konzept des Boosting basiert und vom XGBoost-Ansatz inspiriert ist. Diese Erweiterung zielt darauf ab, die Erklärbarkeit von GLMs durch die Kombination von Residuenanalyse und Boosting zu verbessern. Der Aufbau basiert auf dem Projekt pyLocalGLMnet, das eine Python-Implementierung des Richman/Wüthrich-Ansatzes enthält. \n",
    "Die Grundidee von XGLMBoost besteht darin, die Vorhersagegenauigkeit eines klassischen GLM durch die Integration von Boosting zu erhöhen und gleichzeitig die Interpretierbarkeit der Modellvorhersagen zu verbessern. Dabei werden die Residuen, d.h. die Differenz zwischen den beobachteten und den vorhergesagten Werten des GLM, als neues Trainingsziel für das Boosting verwendet. Dieser Ansatz ermöglicht es, die Modellfehler gezielt zu reduzieren und gleichzeitig die Interpretierbarkeit der Modellvorhersagen zu erhalten.<br>\n",
    "<br>\n",
    "Der erste Datensatz ist ähnlich wie beim ursprünglichen XGBoost-Ansatz ein synthetischer Datensatz. Dieser dient dazu, die Wirksamkeit und die Grenzen unseres XGLMBoost-Ansatzes zu veranschaulichen, da der wahre Zusammenhang bekannt ist. Anschließend demonstrieren wir die Anwendung von XGLMBoost auf reale Daten: Wir betrachten die Vorhersage von Schadensfällen in der Kfz-Haftpflichtversicherung. Diese praktische Anwendung zeigt die Nützlichkeit und Anpassbarkeit unseres Ansatzes an reale Probleme.\n"
   ]
  },
  {
   "cell_type": "markdown",
   "metadata": {},
   "source": [
    "<hr>\n",
    "\n",
    "# 2. Datensatz 1: Künstlicher Datensatz <a class=\"anchor\" id=\"2-bullet\"></a>\n",
    "\n",
    "<hr>"
   ]
  },
  {
   "cell_type": "markdown",
   "metadata": {},
   "source": [
    "## 2.1 Künstlichen Datensatz erzeugen <a class=\"anchor\" id=\"2_1-bullet\"></a>"
   ]
  },
  {
   "cell_type": "markdown",
   "metadata": {},
   "source": [
    "<font size=\"3\">\n",
    "Der synthetische Datensatz besteht aus insgesamt 8 Merkmalen. <em>x7</em> und <em>x8</em> haben keinen Einfluss auf die Zielvariable. <em>x8</em> ist jedoch zu 50% mit <em>x2</em> korreliert. Der funktionale Zusammenhang der Zielvariable ergibt sich wie folgt:\n",
    "\n",
    "\\begin{equation} \n",
    "\\mu\\left( x \\right)=\\frac{1}{2}x_{1}-\\frac{1}{4}x^2_{2}+\\frac{1}{2}\\left\\lvert x_{3} \\right\\rvert sin\\left( 2x_{3} \\right)+\\frac{1}{2}x_{4}x_{5}+\\frac{1}{8}x^{2}_{5}x_{6}\n",
    "\\end{equation}\n",
    "\n",
    "Die Merkmalsausprägungen werden mithilfe des Zufallsgenerators von Numpy auf Basis einer Standardnormalverteilung erzeugt. Hierdurch sind die Merkmale bereits standardisiert, d. h. alle haben den Mittelwert <em>µ=0</em> und <em>std=1</em>. Bei einem anderen Datensatz müssten die Merkmale zuerst standardisiert werden, damit die Werte die gleiche Größenordnung haben. Da die Daten künstlich erzeugt werden, wird sowohl ein Trainings- als auch ein Testdatensatz mit 100000 Beobachtungen erzeugt. Bei einem realen Datensatz müsste der vorhandene Datensatz entsprechend aufgeteilt werden (bspw. 80:20)."
   ]
  },
  {
   "cell_type": "code",
   "execution_count": 29,
   "metadata": {},
   "outputs": [],
   "source": [
    "# Zielfunktion\n",
    "def target_variable(x):\n",
    "    return (\n",
    "        (1 / 2) * x[0]\n",
    "        - (1 / 4) * (x[1] ** 2)\n",
    "        + (1 / 2) * abs(x[2]) * math.sin(2 * x[2])\n",
    "        + (1 / 2) * x[3] * x[4]\n",
    "        + (1 / 8) * (x[4] ** 2) * x[5]\n",
    "    )"
   ]
  },
  {
   "cell_type": "code",
   "execution_count": 30,
   "metadata": {},
   "outputs": [],
   "source": [
    "# Random Number Generator\n",
    "rng = np.random.default_rng()"
   ]
  },
  {
   "cell_type": "code",
   "execution_count": 31,
   "metadata": {},
   "outputs": [],
   "source": [
    "# Trainingsdatensatz (n = 100.000) erzeugen (Variablen x1, x3, x4, x5, x6, x7)\n",
    "x1_train = rng.standard_normal(size=(100000, 1))\n",
    "x3_7_train = rng.standard_normal(size=(100000, 5))\n",
    "\n",
    "# Variablen x2, x8 mit 50 % Korrelation erzeugen\n",
    "cov_matrix = [[1, 0.5], [0.5, 1]]\n",
    "x2_x8_train = rng.multivariate_normal(mean=[0, 0], cov=cov_matrix, size=100000)\n",
    "\n",
    "# Trainingsdatensatz zusammenfügen und Zielvariable y bestimmen\n",
    "x_train = np.column_stack((x1_train, x2_x8_train[:, 0], x3_7_train, x2_x8_train[:, 1]))\n",
    "y_train = np.array(list(map(target_variable, x_train[:, 0:7])))"
   ]
  },
  {
   "cell_type": "code",
   "execution_count": 32,
   "metadata": {},
   "outputs": [],
   "source": [
    "# Testdatensatz (n = 100.000) erzeugen (Variablen x1, x3, x4, x5, x6, x7)\n",
    "x1_test = rng.standard_normal(size=(100000, 1))\n",
    "x3_7_test = rng.standard_normal(size=(100000, 5))\n",
    "\n",
    "# Variablen x2, x8 mit 50 % Korrelation erzeugen\n",
    "x2_x8_test = rng.multivariate_normal(mean=[0, 0], cov=cov_matrix, size=100000)\n",
    "\n",
    "# Testdatensatz zusammenfügen und Zielvariable y bestimmen\n",
    "x_test = np.column_stack((x1_test, x2_x8_test[:, 0], x3_7_test, x2_x8_test[:, 1]))\n",
    "y_test = np.array(list(map(target_variable, x_test[:, 0:7])))"
   ]
  },
  {
   "cell_type": "markdown",
   "metadata": {},
   "source": [
    "## 2.2 XGLMBoost <a class=\"anchor\" id=\"2_2-bullet\"></a>"
   ]
  },
  {
   "cell_type": "markdown",
   "metadata": {},
   "source": [
    "<font size=\"3\">\n",
    "In diesem Kapitel soll auf Basis der Trainingsdaten zuerst ein klassisches GLM trainert und danach geboostet. Für diese bietet sich daraufhin der Vergleich der Vorhersagegenauigkeit beider Modelle an."
   ]
  },
  {
   "cell_type": "markdown",
   "metadata": {},
   "source": [
    "### 2.2.1 GLM <a class=\"anchor\" id=\"2_2_1-bullet\"></a>"
   ]
  },
  {
   "cell_type": "markdown",
   "metadata": {},
   "source": [
    "<font size=\"3\">\n",
    "Generalisierte lineare Modelle, abgekürzt GLM, erweitern herkömmliche lineare Regressionsmodelle zur Abbildung nichtlinearer Zusammenhänge [2]. Im Wesentlichen bestehen GLMs aus drei Hauptkomponenten: der systematischen Komponente, der Verbindungsfunktion und der Zufallskomponente. Die systematische Komponente entspricht den klassischen Regressionsparametern einer linearen Funktion. Die Zufallskomponente beschreibt die Verteilung der Residuen eines herkömmlichen linearen Regressionsmodells. Im Gegensatz zur Forderung nach einer Normalverteilung bei der klassischen linearen Regression erlaubt ein GLM die Verwendung anderer Verteilungen aus der Exponentialfamilie, wie z. B. die Binomial- oder Poisson-Verteilung. Die Verknüpfungsfunktion verknüpft die Regressionsparameter mit der angegebenen Zufallskomponente. Die Wahl der Zufallskomponente und der entsprechenden Verknüpfungsfunktion hängt von der spezifischen Problemstellung und den vorliegenden Daten ab. Weitere Informationen zur Wahl der Verknüpfungsfunktion finden sich z. B. in [2]. GLMs finden in verschiedenen Anwendungsbereichen, wie z.B. im Versicherungswesen, vielfältige Einsatzmöglichkeiten, da ihre Ergebnisse auf Basis der Koeffizienten gut interpretierbar sind.\n",
    "<br><br>\n",
    "Für den synthetischen Datensatz wurde im pyLoccalGLMnet die Identity-Link Funktion verwendet. Das resultierende GLM entspricht also einer klassischen linearen Regression. Um ein GLM mit Python zu erzeugen, bieten sich Bibliotheken wie scikit-learn an."
   ]
  },
  {
   "cell_type": "code",
   "execution_count": 33,
   "metadata": {},
   "outputs": [],
   "source": [
    "glm = LinearRegression()\n",
    "glm.fit(x_train, y_train)\n",
    "\n",
    "y_pred_glm = glm.predict(x_test)"
   ]
  },
  {
   "cell_type": "markdown",
   "metadata": {},
   "source": [
    "### 2.2.2 XGLMBoost <a class=\"anchor\" id=\"2_2_2-bullet\"></a>"
   ]
  },
  {
   "cell_type": "markdown",
   "metadata": {},
   "source": [
    "<font size=\"3\">\n",
    "In diesem Teil des Codes wird der Begriff \"Residuen\" verwendet, um die Differenz zwischen den tatsächlichen Testzielwerten (y_test) und den Vorhersagen des linearen Regressionsmodells (y_pred_glm) zu beschreiben. Residuen sind die Abweichungen oder Fehler zwischen den tatsächlichen Beobachtungswerten und den vom Modell vorhergesagten Werten.\n",
    "<br><br>\n",
    "Die Zeile residuals = y_test - y_pred_glm berechnet diese Residuen. Durch Subtraktion der Vorhersagen des linearen Regressionsmodells von den tatsächlichen Testzielwerten werden die Abweichungen zwischen den vorhergesagten und den tatsächlichen Werten ermittelt. Sind die Residuen positiv, so hat das Modell die Werte unterschätzt, sind sie negativ, so hat das Modell die Werte überschätzt."
   ]
  },
  {
   "cell_type": "code",
   "execution_count": 34,
   "metadata": {},
   "outputs": [],
   "source": [
    "# Residuen berechnen\n",
    "residuals = y_test - y_pred_glm"
   ]
  },
  {
   "cell_type": "markdown",
   "metadata": {},
   "source": [
    "<font size=\"3\">\n",
    "Es werden Arrays initialisiert, um die Vorhersagen der drei Boosting-Modelle (Decision Trees, Random Forest und Gradient Boosting) zu speichern. Diese Arrays werden in den folgenden Iterationen verwendet, um die kumulativen Auswirkungen der Boosting-Schritte zu verfolgen und die Gesamtvorhersagen für jedes Modell zu erstellen.\n",
    "<br><br>\n",
    "boosted_predictions_dt, boosted_predictions_rf und boosted_predictions_gb: Diese Arrays werden mit Nullen initialisiert und haben die gleiche Form wie das Array y_pred_glm, das die Vorhersagen des linearen Regressionsmodells enthält. Diese Arrays werden später in den Boosting-Schleifen verwendet, um die schrittweisen Verbesserungen der Vorhersagen durch die Boosting-Modelle zu speichern.\n",
    "<br><br>\n",
    "n_iterations: Dies ist eine vordefinierte Anzahl von Iterationen, die in den Boosting-Schleifen durchlaufen werden. Jede Iteration fügt dem Modell eine weitere Komponente hinzu, um die Vorhersagegenauigkeit schrittweise zu verbessern.\n",
    "<br><br>\n",
    "learning_rate: Die Lernrate ist ein Parameter, der angibt, wie stark die Vorhersagen der Boosting-Modelle in jeder Iteration berücksichtigt werden. Eine höhere Lernrate bedeutet eine stärkere Berücksichtigung der Boosting-Vorhersagen, aber auch ein höheres Risiko des Overfittings."
   ]
  },
  {
   "cell_type": "code",
   "execution_count": 35,
   "metadata": {},
   "outputs": [],
   "source": [
    "# Initialisiere Arrays für die Vorhersagen\n",
    "boosted_predictions_dt = np.zeros_like(y_pred_glm)\n",
    "boosted_predictions_rf = np.zeros_like(y_pred_glm)\n",
    "boosted_predictions_gb = np.zeros_like(y_pred_glm)\n",
    "\n",
    "n_iterations = 10\n",
    "learning_rate = 0.5"
   ]
  },
  {
   "cell_type": "markdown",
   "metadata": {},
   "source": [
    "<font size=\"3\">\n",
    "In diesem Abschnitt wird eine Boosting-Iteration für Entscheidungsbaum-, Random Forest und Gradient Boosting-Verfahren durchgeführt, um die Vorhersagegenauigkeit zu verbessern. Innerhalb einer Schleife werden mehrere Iterationen durchgeführt. In jeder Iteration wird ein spezifisches Boosting-Modell erstellt und auf die verbleibenden Fehler des ursprünglichen Modells trainiert. Die Vorhersagen dieses Boosting-Modells werden mit einer Lernrate skaliert und zu den vorherigen Boosting-Vorhersagen addiert. Die Residuen, die die Differenz zwischen den tatsächlichen Werten und den bisherigen Vorhersagen darstellen, werden aktualisiert. Am Ende der Schleife werden die kumulierten Vorhersagen des spezifischen Boosting-Modells zu den ursprünglichen glm-Vorhersagen addiert, um die Gesamtvorhersagen zu erzeugen. Dieser Prozess wird in mehreren Iterationen wiederholt, um die Gesamtprognosen schrittweise zu verbessern."
   ]
  },
  {
   "cell_type": "code",
   "execution_count": 36,
   "metadata": {},
   "outputs": [],
   "source": [
    "# Boosting-Schleife Decission Tree\n",
    "for i in range(n_iterations):\n",
    " \n",
    "    boosting_model_dt = DecisionTreeRegressor(max_depth=50)\n",
    "    boosting_model_dt.fit(x_train, residuals)\n",
    "    boosted_residuals_dt = boosting_model_dt.predict(x_train)\n",
    "    boosted_predictions_dt += learning_rate * boosted_residuals_dt\n",
    "\n",
    "    # Aktualisierung der Residuen\n",
    "    residuals = y_test - y_pred_glm - boosted_predictions_dt \n",
    "\n",
    "# Vorhersage Decission Tree\n",
    "y_pred_boosted_dt = y_pred_glm + boosted_predictions_dt"
   ]
  },
  {
   "cell_type": "code",
   "execution_count": 37,
   "metadata": {},
   "outputs": [],
   "source": [
    "# Boosting-Schleife Random Forest\n",
    "for i in range(n_iterations):\n",
    " \n",
    "    boosting_model_rf = RandomForestRegressor(max_depth=50)\n",
    "    boosting_model_rf.fit(x_train, residuals)\n",
    "    boosted_residuals_rf = boosting_model_rf.predict(x_train)\n",
    "    boosted_predictions_rf += learning_rate * boosted_residuals_rf\n",
    "\n",
    "    # Aktualisierung der Residuen\n",
    "    residuals = y_test - y_pred_glm - boosted_predictions_rf \n",
    "\n",
    "# Vorhersage Random Forest\n",
    "y_pred_boosted_rf = y_pred_glm + boosted_predictions_rf"
   ]
  },
  {
   "cell_type": "code",
   "execution_count": 38,
   "metadata": {},
   "outputs": [],
   "source": [
    "# Boosting-Schleife Gradient Boosting\n",
    "for i in range(n_iterations):\n",
    " \n",
    "    boosting_model_gb = GradientBoostingRegressor(max_depth=50)\n",
    "    boosting_model_gb.fit(x_train, residuals)\n",
    "    boosted_residuals_gb = boosting_model_gb.predict(x_train)\n",
    "    boosted_predictions_gb += learning_rate * boosted_residuals_gb\n",
    "\n",
    "    # Aktualisierung der Residuen\n",
    "    residuals = y_test - y_pred_glm - boosted_predictions_gb \n",
    "\n",
    "# Vorhersage Gradient Boosting\n",
    "y_pred_boosted_gb = y_pred_glm + boosted_predictions_gb"
   ]
  },
  {
   "cell_type": "markdown",
   "metadata": {},
   "source": [
    "### 2.2.3 Performance Vergleich <a class=\"anchor\" id=\"2_2_3-bullet\"></a>"
   ]
  },
  {
   "cell_type": "markdown",
   "metadata": {},
   "source": [
    "<font size=\"3\">\n",
    "In diesem Abschnitt werden verschiedene Evaluierungsmetriken berechnet, um die Leistung der Boosting-Modelle (Decision Trees, Random Forest und Gradient Boosting) sowie des ursprünglichen linearen Regressionsmodells (GLM) zu bewerten. Die berechneten Metriken bieten Einblicke in die Genauigkeit und Effektivität der verschiedenen Modelle bei der Vorhersage.\n",
    "<br><br>\n",
    "\n",
    "### Berechnung des Mean Squared Error (MSE)\n",
    "Der Mean Squared Error misst die durchschnittliche quadratische Abweichung zwischen den tatsächlichen Werten und den vorhergesagten Werten. Für jedes Modell (Decision Tree, Random Forest, Gradient Boosting und GLM) wird der MSE berechnet und gespeichert.\n",
    "<br><br>\n",
    "\n",
    "### Berechnung von R^2\n",
    "Der R^2-Wert, auch als Bestimmtheitsmaß bekannt, gibt an, wie gut die Vorhersagen im Vergleich zu einem einfachen Durchschnittsmodell sind. Er reicht von 0 (schlechte Anpassung) bis 1 (perfekte Anpassung). Die R^2-Werte werden für jedes Modell berechnet und gespeichert.\n",
    "<br><br>\n",
    "\n",
    "### Berechnung des Mean Absolute Error (MAE)\n",
    "Der Mean Absolute Error misst die durchschnittliche absolute Abweichung zwischen den tatsächlichen Werten und den vorhergesagten Werten. Er liefert eine Vorstellung von der durchschnittlichen Größe der Fehler. MAE-Werte werden für jedes Modell berechnet und gespeichert.\n",
    "<br><br>\n",
    "\n",
    "### Berechnung des Root Mean Squared Error (RMSE)\n",
    "Der Root Mean Squared Error ist die Quadratwurzel des MSE und gibt die durchschnittliche Abweichung zwischen den tatsächlichen und vorhergesagten Werten in den ursprünglichen Einheiten der Zielvariable wieder. RMSE-Werte werden für jedes Modell berechnet und gespeichert.\n",
    "\n",
    "Anschließend werden die berechneten Metriken in einem übersichtlichen Dataframe zusammengefasst und ausgegeben. Dieser Dataframe zeigt die Performance jedes Modells in Bezug auf die verschiedenen Metriken, was einen direkten Vergleich ermöglicht und dabei hilft, das am besten geeignete Modell für die spezifische Anwendung zu identifizieren."
   ]
  },
  {
   "cell_type": "code",
   "execution_count": 39,
   "metadata": {},
   "outputs": [
    {
     "name": "stdout",
     "output_type": "stream",
     "text": [
      "               Model       MSE       R^2       MAE      RMSE\n",
      "0      Decision Tree  0.000085  0.999893  0.005447  0.009203\n",
      "1      Random Forest  0.001910  0.997591  0.032722  0.043708\n",
      "2  Gradient Boosting  0.000002  0.999998  0.001014  0.001388\n",
      "3                GLM  0.528027  0.334215  0.531085  0.726654\n"
     ]
    }
   ],
   "source": [
    "# Berechnung des Mean Squared Error (MSE)\n",
    "mse_dt = mean_squared_error(y_test, y_pred_boosted_dt)\n",
    "mse_rf = mean_squared_error(y_test, y_pred_boosted_rf)\n",
    "mse_gb = mean_squared_error(y_test, y_pred_boosted_gb)\n",
    "mse_glm = mean_squared_error(y_test, y_pred_glm)\n",
    "\n",
    "# Berechnung von R^2\n",
    "r2_dt = r2_score(y_test, y_pred_boosted_dt)\n",
    "r2_rf = r2_score(y_test, y_pred_boosted_rf)\n",
    "r2_gb = r2_score(y_test, y_pred_boosted_gb)\n",
    "r2_glm = r2_score(y_test, y_pred_glm)\n",
    "\n",
    "# Berechnung des Mean Absolute Error (MAE)\n",
    "mae_dt = mean_absolute_error(y_test, y_pred_boosted_dt)\n",
    "mae_rf = mean_absolute_error(y_test, y_pred_boosted_rf)\n",
    "mae_gb = mean_absolute_error(y_test, y_pred_boosted_gb)\n",
    "mae_glm = mean_absolute_error(y_test, y_pred_glm)\n",
    "\n",
    "# Berechnung des Root Mean Squared Error (RMSE)\n",
    "rmse_dt = mean_squared_error(y_test, y_pred_boosted_dt, squared=False)\n",
    "rmse_rf = mean_squared_error(y_test, y_pred_boosted_rf, squared=False)\n",
    "rmse_gb = mean_squared_error(y_test, y_pred_boosted_gb, squared=False)\n",
    "rmse_glm = mean_squared_error(y_test, y_pred_glm, squared=False)\n",
    "\n",
    "\n",
    "models = ['Decision Tree', 'Random Forest', 'Gradient Boosting', 'GLM']\n",
    "\n",
    "# Berechnung der Metriken für die Modelle\n",
    "mse_scores = [mse_dt, mse_rf, mse_gb, mse_glm]\n",
    "r2_scores = [r2_dt, r2_rf, r2_gb, r2_glm]\n",
    "mae_scores = [mae_dt, mae_rf, mae_gb, mae_glm]\n",
    "rmse_scores = [rmse_dt, rmse_rf, rmse_gb, rmse_glm]\n",
    "\n",
    "# Erstellen eines DataFrames für die Ausgabe\n",
    "data = {'Model': models, 'MSE': mse_scores, 'R^2': r2_scores, 'MAE': mae_scores, 'RMSE': rmse_scores}\n",
    "metrics_df = pd.DataFrame(data)\n",
    "\n",
    "# Ausgabe der Metriken-Tabelle\n",
    "print(metrics_df)"
   ]
  },
  {
   "cell_type": "markdown",
   "metadata": {},
   "source": [
    "<font size=\"3\">\n",
    "Die Vorhersagen der Modelle werden visuell verglichen und dargestellt. Es wird eine Visualisierung erstellt, die die Beziehung zwischen den wahren (tatsächlichen) Werten und den geschätzten Werten für jedes Modell zeigt."
   ]
  },
  {
   "cell_type": "code",
   "execution_count": 40,
   "metadata": {},
   "outputs": [
    {
     "data": {
      "image/png": "[encoded data removed]",
      "text/plain": [
       "<Figure size 1500x500 with 4 Axes>"
      ]
     },
     "metadata": {},
     "output_type": "display_data"
    }
   ],
   "source": [
    "# Visualisierung der Vorhersagen\n",
    "fig_performance = plt.figure(tight_layout=True, figsize=(15, 5))\n",
    "spec = GridSpec(ncols=4, nrows=1, figure=fig_performance)\n",
    "axs_perf = [\n",
    "    fig_performance.add_subplot(spec[0, 0]),\n",
    "    fig_performance.add_subplot(spec[0, 1]),\n",
    "    fig_performance.add_subplot(spec[0, 2]),\n",
    "    fig_performance.add_subplot(spec[0, 3]),\n",
    "]\n",
    "\n",
    "# Scatterplots für die vier Modelle\n",
    "axs_perf[0].scatter(y_test, y_pred_boosted_dt, s=1)\n",
    "axs_perf[0].set_title(\"Decision Tree\")\n",
    "\n",
    "axs_perf[1].scatter(y_test, y_pred_boosted_rf, s=1)\n",
    "axs_perf[1].set_title(\"Random Forest\")\n",
    "\n",
    "axs_perf[2].scatter(y_test, y_pred_boosted_gb, s=1)\n",
    "axs_perf[2].set_title(\"Gradient Boosting\")\n",
    "\n",
    "axs_perf[3].scatter(y_test,  y_pred_glm, s=1)\n",
    "axs_perf[3].set_title(\"GLM\")\n",
    "\n",
    "# Gemeinsame Layout-Einstellungen\n",
    "for ax in axs_perf:\n",
    "    ax.set_xlabel(\"True value\")\n",
    "    ax.set_ylabel(\"Estimated value\")\n",
    "    ax.set_xlim((-4, 4))\n",
    "    ax.set_ylim((-4, 4))\n",
    "\n",
    "fig_performance.suptitle(\"Model Comparison: GLM vs. Boosted Models\")\n",
    "plt.show()"
   ]
  },
  {
   "cell_type": "markdown",
   "metadata": {},
   "source": [
    "<font size=\"3\">\n",
    "Die Ergebnisse der Modellbewertung zeigen signifikante Unterschiede in der Vorhersageleistung der verschiedenen Modelle. Die Metriken bieten Einblick in verschiedene Aspekte der Modellgenauigkeit.\n",
    "<br><br>\n",
    "\n",
    "### Entscheidungsbaum:\n",
    "Der Entscheidungsbaum erzielt eine bemerkenswert geringe mittlere quadratische Abweichung (MSE) von 0,000085, was darauf hindeutet, dass seine Vorhersagen sehr nahe an den tatsächlichen Werten liegen. Der R^2-Wert von 0,999893 bestätigt eine nahezu perfekte Anpassung an die Daten. Der mittlere absolute Fehler (MAE) und der mittlere quadratische Fehler (RMSE) sind mit 0,005447 bzw. 0,009203 ebenfalls sehr niedrig, was auf eine hohe Genauigkeit hinweist.\n",
    "<br><br>\n",
    "\n",
    "### Random Forest:\n",
    "Der Random Forest erreicht etwas höhere Werte für MSE, R^2, MAE und RMSE als der Decision Tree. Dies deutet darauf hin, dass der Random Forest etwas größere Schwankungen aufweist, aber dennoch eine sehr gute Vorhersagequalität besitzt.\n",
    "<br><br>\n",
    "\n",
    "### Gradient Boosting:\n",
    "Das Gradient Boosting Modell zeigt beeindruckende Ergebnisse mit einem außergewöhnlich niedrigen MSE von 0,000002 und einem nahezu perfekten R^2 von 0,999998. Sowohl das MAE als auch das RMSE sind mit 0,001014 bzw. 0,001388 extrem niedrig, was auf eine außergewöhnliche Genauigkeit hinweist. Dieses Modell übertrifft die anderen Modelle in allen Metriken.\n",
    "<br><br>\n",
    "\n",
    "### GLM (Generalisiertes lineares Modell):\n",
    "Im Vergleich zu den Boosting-Modellen schneidet das GLM weniger gut ab. Das hohe MSE von 0,528027 und das niedrige R^2 von 0,334215 deuten darauf hin, dass das GLM Schwierigkeiten hat, die Varianz der Daten zu erfassen. Sowohl MAE als auch RMSE sind höher, was auf größere Vorhersagefehler hinweist."
   ]
  },
  {
   "cell_type": "markdown",
   "metadata": {},
   "source": [
    "<hr>\n",
    "\n",
    "# 3. Datensatz 2: freMTPL2freq <a class=\"anchor\" id=\"3-bullet\"></a>\n",
    "<hr>"
   ]
  },
  {
   "cell_type": "markdown",
   "metadata": {},
   "source": [
    "<font size=\"3\">\n",
    "\n",
    "Nachdem der XGLMBoost-Ansatz zunächst anhand eines synthetischen Datensatzes erläutert wurde, wird er nun auf eine praktische Anwendung übertragen. In dieser Anwendung wird der freMTPL-Datensatz eingesetzt, der als gängiger Benchmark im Bereich der Aktuare anerkannt ist. Dieser Datensatz bietet Einblicke in Kfz-Haftpflichtversicherungen und die dazugehörigen Schadensmeldungen."
   ]
  },
  {
   "cell_type": "markdown",
   "metadata": {},
   "source": [
    "## 3.1 Vorverarbeitung <a class=\"anchor\" id=\"3_1-bullet\"></a>"
   ]
  },
  {
   "cell_type": "markdown",
   "metadata": {},
   "source": [
    "<font size=\"3\">\n",
    "Die Vorverarbeitung wurde von pyLocalGLMnet übernommen.<br>\n",
    "<ol>\n",
    "    <li><b>IDpol:</b> policy number (unique identiﬁer)</li>\n",
    "    <li><b>Exposure:</b> total exposure in yearly units (years-at-risk) and within (0, 1 ]</li>\n",
    "    <li><b>Area:</b> area code (categorical, ordinal with 6 levels)</li>\n",
    "    <li><b>VehPower:</b> power of the car (continuous)</li>\n",
    "    <li><b>VehAge</b> age of the car in years</li>\n",
    "    <li><b>DrivAge:</b> age of the (most common) driver in years</li>\n",
    "    <li><b>BonusMalus:</b> bonus-malus level between 50 and 230 (with entrance level 100)</li>\n",
    "    <li><b>VehBrand:</b> car brand (categorical, nominal with 11 levels)</li>\n",
    "    <li><b>VehGas:</b> diesel or regular fuel car (binary)</li>\n",
    "    <li><b>Density:</b> density of population per km 2 at the location of the living place of the driver</li>\n",
    "    <li><b>Region:</b> regions in France (prior to 2016)(categorical)</li>\n",
    "</ol>\n",
    "<br>\n"
   ]
  },
  {
   "cell_type": "code",
   "execution_count": 13,
   "metadata": {},
   "outputs": [
    {
     "ename": "FileNotFoundError",
     "evalue": "[Errno 2] No such file or directory: '/Users/simonlanger/Sommersemester23/XGLMBoost/src/data/freMTPL2freq.csv'",
     "output_type": "error",
     "traceback": [
      "\u001b[0;31m---------------------------------------------------------------------------\u001b[0m",
      "\u001b[0;31mFileNotFoundError\u001b[0m                         Traceback (most recent call last)",
      "Cell \u001b[0;32mIn[13], line 6\u001b[0m\n\u001b[1;32m      3\u001b[0m data_path_freq \u001b[39m=\u001b[39m os\u001b[39m.\u001b[39mpath\u001b[39m.\u001b[39mjoin(current_folder, \u001b[39m'\u001b[39m\u001b[39mdata/freMTPL2freq.csv\u001b[39m\u001b[39m'\u001b[39m)\n\u001b[1;32m      4\u001b[0m data_path_sev \u001b[39m=\u001b[39m os\u001b[39m.\u001b[39mpath\u001b[39m.\u001b[39mjoin(current_folder, \u001b[39m'\u001b[39m\u001b[39mdata/freMTPL2sev.csv\u001b[39m\u001b[39m'\u001b[39m)\n\u001b[0;32m----> 6\u001b[0m freq \u001b[39m=\u001b[39m pd\u001b[39m.\u001b[39;49mread_csv(data_path_freq)\n\u001b[1;32m      7\u001b[0m sev \u001b[39m=\u001b[39m pd\u001b[39m.\u001b[39mread_csv(data_path_sev)\n",
      "File \u001b[0;32m~/miniconda3/envs/XGLMBoost/lib/python3.9/site-packages/pandas/io/parsers/readers.py:912\u001b[0m, in \u001b[0;36mread_csv\u001b[0;34m(filepath_or_buffer, sep, delimiter, header, names, index_col, usecols, dtype, engine, converters, true_values, false_values, skipinitialspace, skiprows, skipfooter, nrows, na_values, keep_default_na, na_filter, verbose, skip_blank_lines, parse_dates, infer_datetime_format, keep_date_col, date_parser, date_format, dayfirst, cache_dates, iterator, chunksize, compression, thousands, decimal, lineterminator, quotechar, quoting, doublequote, escapechar, comment, encoding, encoding_errors, dialect, on_bad_lines, delim_whitespace, low_memory, memory_map, float_precision, storage_options, dtype_backend)\u001b[0m\n\u001b[1;32m    899\u001b[0m kwds_defaults \u001b[39m=\u001b[39m _refine_defaults_read(\n\u001b[1;32m    900\u001b[0m     dialect,\n\u001b[1;32m    901\u001b[0m     delimiter,\n\u001b[0;32m   (...)\u001b[0m\n\u001b[1;32m    908\u001b[0m     dtype_backend\u001b[39m=\u001b[39mdtype_backend,\n\u001b[1;32m    909\u001b[0m )\n\u001b[1;32m    910\u001b[0m kwds\u001b[39m.\u001b[39mupdate(kwds_defaults)\n\u001b[0;32m--> 912\u001b[0m \u001b[39mreturn\u001b[39;00m _read(filepath_or_buffer, kwds)\n",
      "File \u001b[0;32m~/miniconda3/envs/XGLMBoost/lib/python3.9/site-packages/pandas/io/parsers/readers.py:577\u001b[0m, in \u001b[0;36m_read\u001b[0;34m(filepath_or_buffer, kwds)\u001b[0m\n\u001b[1;32m    574\u001b[0m _validate_names(kwds\u001b[39m.\u001b[39mget(\u001b[39m\"\u001b[39m\u001b[39mnames\u001b[39m\u001b[39m\"\u001b[39m, \u001b[39mNone\u001b[39;00m))\n\u001b[1;32m    576\u001b[0m \u001b[39m# Create the parser.\u001b[39;00m\n\u001b[0;32m--> 577\u001b[0m parser \u001b[39m=\u001b[39m TextFileReader(filepath_or_buffer, \u001b[39m*\u001b[39;49m\u001b[39m*\u001b[39;49mkwds)\n\u001b[1;32m    579\u001b[0m \u001b[39mif\u001b[39;00m chunksize \u001b[39mor\u001b[39;00m iterator:\n\u001b[1;32m    580\u001b[0m     \u001b[39mreturn\u001b[39;00m parser\n",
      "File \u001b[0;32m~/miniconda3/envs/XGLMBoost/lib/python3.9/site-packages/pandas/io/parsers/readers.py:1407\u001b[0m, in \u001b[0;36mTextFileReader.__init__\u001b[0;34m(self, f, engine, **kwds)\u001b[0m\n\u001b[1;32m   1404\u001b[0m     \u001b[39mself\u001b[39m\u001b[39m.\u001b[39moptions[\u001b[39m\"\u001b[39m\u001b[39mhas_index_names\u001b[39m\u001b[39m\"\u001b[39m] \u001b[39m=\u001b[39m kwds[\u001b[39m\"\u001b[39m\u001b[39mhas_index_names\u001b[39m\u001b[39m\"\u001b[39m]\n\u001b[1;32m   1406\u001b[0m \u001b[39mself\u001b[39m\u001b[39m.\u001b[39mhandles: IOHandles \u001b[39m|\u001b[39m \u001b[39mNone\u001b[39;00m \u001b[39m=\u001b[39m \u001b[39mNone\u001b[39;00m\n\u001b[0;32m-> 1407\u001b[0m \u001b[39mself\u001b[39m\u001b[39m.\u001b[39m_engine \u001b[39m=\u001b[39m \u001b[39mself\u001b[39;49m\u001b[39m.\u001b[39;49m_make_engine(f, \u001b[39mself\u001b[39;49m\u001b[39m.\u001b[39;49mengine)\n",
      "File \u001b[0;32m~/miniconda3/envs/XGLMBoost/lib/python3.9/site-packages/pandas/io/parsers/readers.py:1661\u001b[0m, in \u001b[0;36mTextFileReader._make_engine\u001b[0;34m(self, f, engine)\u001b[0m\n\u001b[1;32m   1659\u001b[0m     \u001b[39mif\u001b[39;00m \u001b[39m\"\u001b[39m\u001b[39mb\u001b[39m\u001b[39m\"\u001b[39m \u001b[39mnot\u001b[39;00m \u001b[39min\u001b[39;00m mode:\n\u001b[1;32m   1660\u001b[0m         mode \u001b[39m+\u001b[39m\u001b[39m=\u001b[39m \u001b[39m\"\u001b[39m\u001b[39mb\u001b[39m\u001b[39m\"\u001b[39m\n\u001b[0;32m-> 1661\u001b[0m \u001b[39mself\u001b[39m\u001b[39m.\u001b[39mhandles \u001b[39m=\u001b[39m get_handle(\n\u001b[1;32m   1662\u001b[0m     f,\n\u001b[1;32m   1663\u001b[0m     mode,\n\u001b[1;32m   1664\u001b[0m     encoding\u001b[39m=\u001b[39;49m\u001b[39mself\u001b[39;49m\u001b[39m.\u001b[39;49moptions\u001b[39m.\u001b[39;49mget(\u001b[39m\"\u001b[39;49m\u001b[39mencoding\u001b[39;49m\u001b[39m\"\u001b[39;49m, \u001b[39mNone\u001b[39;49;00m),\n\u001b[1;32m   1665\u001b[0m     compression\u001b[39m=\u001b[39;49m\u001b[39mself\u001b[39;49m\u001b[39m.\u001b[39;49moptions\u001b[39m.\u001b[39;49mget(\u001b[39m\"\u001b[39;49m\u001b[39mcompression\u001b[39;49m\u001b[39m\"\u001b[39;49m, \u001b[39mNone\u001b[39;49;00m),\n\u001b[1;32m   1666\u001b[0m     memory_map\u001b[39m=\u001b[39;49m\u001b[39mself\u001b[39;49m\u001b[39m.\u001b[39;49moptions\u001b[39m.\u001b[39;49mget(\u001b[39m\"\u001b[39;49m\u001b[39mmemory_map\u001b[39;49m\u001b[39m\"\u001b[39;49m, \u001b[39mFalse\u001b[39;49;00m),\n\u001b[1;32m   1667\u001b[0m     is_text\u001b[39m=\u001b[39;49mis_text,\n\u001b[1;32m   1668\u001b[0m     errors\u001b[39m=\u001b[39;49m\u001b[39mself\u001b[39;49m\u001b[39m.\u001b[39;49moptions\u001b[39m.\u001b[39;49mget(\u001b[39m\"\u001b[39;49m\u001b[39mencoding_errors\u001b[39;49m\u001b[39m\"\u001b[39;49m, \u001b[39m\"\u001b[39;49m\u001b[39mstrict\u001b[39;49m\u001b[39m\"\u001b[39;49m),\n\u001b[1;32m   1669\u001b[0m     storage_options\u001b[39m=\u001b[39;49m\u001b[39mself\u001b[39;49m\u001b[39m.\u001b[39;49moptions\u001b[39m.\u001b[39;49mget(\u001b[39m\"\u001b[39;49m\u001b[39mstorage_options\u001b[39;49m\u001b[39m\"\u001b[39;49m, \u001b[39mNone\u001b[39;49;00m),\n\u001b[1;32m   1670\u001b[0m )\n\u001b[1;32m   1671\u001b[0m \u001b[39massert\u001b[39;00m \u001b[39mself\u001b[39m\u001b[39m.\u001b[39mhandles \u001b[39mis\u001b[39;00m \u001b[39mnot\u001b[39;00m \u001b[39mNone\u001b[39;00m\n\u001b[1;32m   1672\u001b[0m f \u001b[39m=\u001b[39m \u001b[39mself\u001b[39m\u001b[39m.\u001b[39mhandles\u001b[39m.\u001b[39mhandle\n",
      "File \u001b[0;32m~/miniconda3/envs/XGLMBoost/lib/python3.9/site-packages/pandas/io/common.py:859\u001b[0m, in \u001b[0;36mget_handle\u001b[0;34m(path_or_buf, mode, encoding, compression, memory_map, is_text, errors, storage_options)\u001b[0m\n\u001b[1;32m    854\u001b[0m \u001b[39melif\u001b[39;00m \u001b[39misinstance\u001b[39m(handle, \u001b[39mstr\u001b[39m):\n\u001b[1;32m    855\u001b[0m     \u001b[39m# Check whether the filename is to be opened in binary mode.\u001b[39;00m\n\u001b[1;32m    856\u001b[0m     \u001b[39m# Binary mode does not support 'encoding' and 'newline'.\u001b[39;00m\n\u001b[1;32m    857\u001b[0m     \u001b[39mif\u001b[39;00m ioargs\u001b[39m.\u001b[39mencoding \u001b[39mand\u001b[39;00m \u001b[39m\"\u001b[39m\u001b[39mb\u001b[39m\u001b[39m\"\u001b[39m \u001b[39mnot\u001b[39;00m \u001b[39min\u001b[39;00m ioargs\u001b[39m.\u001b[39mmode:\n\u001b[1;32m    858\u001b[0m         \u001b[39m# Encoding\u001b[39;00m\n\u001b[0;32m--> 859\u001b[0m         handle \u001b[39m=\u001b[39m \u001b[39mopen\u001b[39;49m(\n\u001b[1;32m    860\u001b[0m             handle,\n\u001b[1;32m    861\u001b[0m             ioargs\u001b[39m.\u001b[39;49mmode,\n\u001b[1;32m    862\u001b[0m             encoding\u001b[39m=\u001b[39;49mioargs\u001b[39m.\u001b[39;49mencoding,\n\u001b[1;32m    863\u001b[0m             errors\u001b[39m=\u001b[39;49merrors,\n\u001b[1;32m    864\u001b[0m             newline\u001b[39m=\u001b[39;49m\u001b[39m\"\u001b[39;49m\u001b[39m\"\u001b[39;49m,\n\u001b[1;32m    865\u001b[0m         )\n\u001b[1;32m    866\u001b[0m     \u001b[39melse\u001b[39;00m:\n\u001b[1;32m    867\u001b[0m         \u001b[39m# Binary mode\u001b[39;00m\n\u001b[1;32m    868\u001b[0m         handle \u001b[39m=\u001b[39m \u001b[39mopen\u001b[39m(handle, ioargs\u001b[39m.\u001b[39mmode)\n",
      "\u001b[0;31mFileNotFoundError\u001b[0m: [Errno 2] No such file or directory: '/Users/simonlanger/Sommersemester23/XGLMBoost/src/data/freMTPL2freq.csv'"
     ]
    }
   ],
   "source": [
    "current_folder = os.getcwd()\n",
    "\n",
    "data_path_freq = os.path.join(current_folder, 'data/freMTPL2freq.csv')\n",
    "data_path_sev = os.path.join(current_folder, 'data/freMTPL2sev.csv')\n",
    "\n",
    "freq = pd.read_csv(data_path_freq)\n",
    "sev = pd.read_csv(data_path_sev)"
   ]
  },
  {
   "cell_type": "code",
   "execution_count": 12,
   "metadata": {},
   "outputs": [
    {
     "ename": "FileNotFoundError",
     "evalue": "[Errno 2] No such file or directory: '/Users/simonlanger/Sommersemester23/XGLMBoost/src/data/freMTPL2freq.csv'",
     "output_type": "error",
     "traceback": [
      "\u001b[0;31m---------------------------------------------------------------------------\u001b[0m",
      "\u001b[0;31mFileNotFoundError\u001b[0m                         Traceback (most recent call last)",
      "Cell \u001b[0;32mIn[12], line 2\u001b[0m\n\u001b[1;32m      1\u001b[0m \u001b[39m# Enthält Kundendaten von einer Kfz-Haftpflichtversicherung\u001b[39;00m\n\u001b[0;32m----> 2\u001b[0m freq \u001b[39m=\u001b[39m pd\u001b[39m.\u001b[39;49mread_csv(data_path_freq)\n\u001b[1;32m      4\u001b[0m \u001b[39m# Claim Anzahl entfernen (Erklärung siehe [4] Listing B.1)\u001b[39;00m\n\u001b[1;32m      5\u001b[0m freq \u001b[39m=\u001b[39m freq\u001b[39m.\u001b[39mdrop(columns\u001b[39m=\u001b[39m[\u001b[39m\"\u001b[39m\u001b[39mClaimNb\u001b[39m\u001b[39m\"\u001b[39m])\n",
      "File \u001b[0;32m~/miniconda3/envs/XGLMBoost/lib/python3.9/site-packages/pandas/io/parsers/readers.py:912\u001b[0m, in \u001b[0;36mread_csv\u001b[0;34m(filepath_or_buffer, sep, delimiter, header, names, index_col, usecols, dtype, engine, converters, true_values, false_values, skipinitialspace, skiprows, skipfooter, nrows, na_values, keep_default_na, na_filter, verbose, skip_blank_lines, parse_dates, infer_datetime_format, keep_date_col, date_parser, date_format, dayfirst, cache_dates, iterator, chunksize, compression, thousands, decimal, lineterminator, quotechar, quoting, doublequote, escapechar, comment, encoding, encoding_errors, dialect, on_bad_lines, delim_whitespace, low_memory, memory_map, float_precision, storage_options, dtype_backend)\u001b[0m\n\u001b[1;32m    899\u001b[0m kwds_defaults \u001b[39m=\u001b[39m _refine_defaults_read(\n\u001b[1;32m    900\u001b[0m     dialect,\n\u001b[1;32m    901\u001b[0m     delimiter,\n\u001b[0;32m   (...)\u001b[0m\n\u001b[1;32m    908\u001b[0m     dtype_backend\u001b[39m=\u001b[39mdtype_backend,\n\u001b[1;32m    909\u001b[0m )\n\u001b[1;32m    910\u001b[0m kwds\u001b[39m.\u001b[39mupdate(kwds_defaults)\n\u001b[0;32m--> 912\u001b[0m \u001b[39mreturn\u001b[39;00m _read(filepath_or_buffer, kwds)\n",
      "File \u001b[0;32m~/miniconda3/envs/XGLMBoost/lib/python3.9/site-packages/pandas/io/parsers/readers.py:577\u001b[0m, in \u001b[0;36m_read\u001b[0;34m(filepath_or_buffer, kwds)\u001b[0m\n\u001b[1;32m    574\u001b[0m _validate_names(kwds\u001b[39m.\u001b[39mget(\u001b[39m\"\u001b[39m\u001b[39mnames\u001b[39m\u001b[39m\"\u001b[39m, \u001b[39mNone\u001b[39;00m))\n\u001b[1;32m    576\u001b[0m \u001b[39m# Create the parser.\u001b[39;00m\n\u001b[0;32m--> 577\u001b[0m parser \u001b[39m=\u001b[39m TextFileReader(filepath_or_buffer, \u001b[39m*\u001b[39;49m\u001b[39m*\u001b[39;49mkwds)\n\u001b[1;32m    579\u001b[0m \u001b[39mif\u001b[39;00m chunksize \u001b[39mor\u001b[39;00m iterator:\n\u001b[1;32m    580\u001b[0m     \u001b[39mreturn\u001b[39;00m parser\n",
      "File \u001b[0;32m~/miniconda3/envs/XGLMBoost/lib/python3.9/site-packages/pandas/io/parsers/readers.py:1407\u001b[0m, in \u001b[0;36mTextFileReader.__init__\u001b[0;34m(self, f, engine, **kwds)\u001b[0m\n\u001b[1;32m   1404\u001b[0m     \u001b[39mself\u001b[39m\u001b[39m.\u001b[39moptions[\u001b[39m\"\u001b[39m\u001b[39mhas_index_names\u001b[39m\u001b[39m\"\u001b[39m] \u001b[39m=\u001b[39m kwds[\u001b[39m\"\u001b[39m\u001b[39mhas_index_names\u001b[39m\u001b[39m\"\u001b[39m]\n\u001b[1;32m   1406\u001b[0m \u001b[39mself\u001b[39m\u001b[39m.\u001b[39mhandles: IOHandles \u001b[39m|\u001b[39m \u001b[39mNone\u001b[39;00m \u001b[39m=\u001b[39m \u001b[39mNone\u001b[39;00m\n\u001b[0;32m-> 1407\u001b[0m \u001b[39mself\u001b[39m\u001b[39m.\u001b[39m_engine \u001b[39m=\u001b[39m \u001b[39mself\u001b[39;49m\u001b[39m.\u001b[39;49m_make_engine(f, \u001b[39mself\u001b[39;49m\u001b[39m.\u001b[39;49mengine)\n",
      "File \u001b[0;32m~/miniconda3/envs/XGLMBoost/lib/python3.9/site-packages/pandas/io/parsers/readers.py:1661\u001b[0m, in \u001b[0;36mTextFileReader._make_engine\u001b[0;34m(self, f, engine)\u001b[0m\n\u001b[1;32m   1659\u001b[0m     \u001b[39mif\u001b[39;00m \u001b[39m\"\u001b[39m\u001b[39mb\u001b[39m\u001b[39m\"\u001b[39m \u001b[39mnot\u001b[39;00m \u001b[39min\u001b[39;00m mode:\n\u001b[1;32m   1660\u001b[0m         mode \u001b[39m+\u001b[39m\u001b[39m=\u001b[39m \u001b[39m\"\u001b[39m\u001b[39mb\u001b[39m\u001b[39m\"\u001b[39m\n\u001b[0;32m-> 1661\u001b[0m \u001b[39mself\u001b[39m\u001b[39m.\u001b[39mhandles \u001b[39m=\u001b[39m get_handle(\n\u001b[1;32m   1662\u001b[0m     f,\n\u001b[1;32m   1663\u001b[0m     mode,\n\u001b[1;32m   1664\u001b[0m     encoding\u001b[39m=\u001b[39;49m\u001b[39mself\u001b[39;49m\u001b[39m.\u001b[39;49moptions\u001b[39m.\u001b[39;49mget(\u001b[39m\"\u001b[39;49m\u001b[39mencoding\u001b[39;49m\u001b[39m\"\u001b[39;49m, \u001b[39mNone\u001b[39;49;00m),\n\u001b[1;32m   1665\u001b[0m     compression\u001b[39m=\u001b[39;49m\u001b[39mself\u001b[39;49m\u001b[39m.\u001b[39;49moptions\u001b[39m.\u001b[39;49mget(\u001b[39m\"\u001b[39;49m\u001b[39mcompression\u001b[39;49m\u001b[39m\"\u001b[39;49m, \u001b[39mNone\u001b[39;49;00m),\n\u001b[1;32m   1666\u001b[0m     memory_map\u001b[39m=\u001b[39;49m\u001b[39mself\u001b[39;49m\u001b[39m.\u001b[39;49moptions\u001b[39m.\u001b[39;49mget(\u001b[39m\"\u001b[39;49m\u001b[39mmemory_map\u001b[39;49m\u001b[39m\"\u001b[39;49m, \u001b[39mFalse\u001b[39;49;00m),\n\u001b[1;32m   1667\u001b[0m     is_text\u001b[39m=\u001b[39;49mis_text,\n\u001b[1;32m   1668\u001b[0m     errors\u001b[39m=\u001b[39;49m\u001b[39mself\u001b[39;49m\u001b[39m.\u001b[39;49moptions\u001b[39m.\u001b[39;49mget(\u001b[39m\"\u001b[39;49m\u001b[39mencoding_errors\u001b[39;49m\u001b[39m\"\u001b[39;49m, \u001b[39m\"\u001b[39;49m\u001b[39mstrict\u001b[39;49m\u001b[39m\"\u001b[39;49m),\n\u001b[1;32m   1669\u001b[0m     storage_options\u001b[39m=\u001b[39;49m\u001b[39mself\u001b[39;49m\u001b[39m.\u001b[39;49moptions\u001b[39m.\u001b[39;49mget(\u001b[39m\"\u001b[39;49m\u001b[39mstorage_options\u001b[39;49m\u001b[39m\"\u001b[39;49m, \u001b[39mNone\u001b[39;49;00m),\n\u001b[1;32m   1670\u001b[0m )\n\u001b[1;32m   1671\u001b[0m \u001b[39massert\u001b[39;00m \u001b[39mself\u001b[39m\u001b[39m.\u001b[39mhandles \u001b[39mis\u001b[39;00m \u001b[39mnot\u001b[39;00m \u001b[39mNone\u001b[39;00m\n\u001b[1;32m   1672\u001b[0m f \u001b[39m=\u001b[39m \u001b[39mself\u001b[39m\u001b[39m.\u001b[39mhandles\u001b[39m.\u001b[39mhandle\n",
      "File \u001b[0;32m~/miniconda3/envs/XGLMBoost/lib/python3.9/site-packages/pandas/io/common.py:859\u001b[0m, in \u001b[0;36mget_handle\u001b[0;34m(path_or_buf, mode, encoding, compression, memory_map, is_text, errors, storage_options)\u001b[0m\n\u001b[1;32m    854\u001b[0m \u001b[39melif\u001b[39;00m \u001b[39misinstance\u001b[39m(handle, \u001b[39mstr\u001b[39m):\n\u001b[1;32m    855\u001b[0m     \u001b[39m# Check whether the filename is to be opened in binary mode.\u001b[39;00m\n\u001b[1;32m    856\u001b[0m     \u001b[39m# Binary mode does not support 'encoding' and 'newline'.\u001b[39;00m\n\u001b[1;32m    857\u001b[0m     \u001b[39mif\u001b[39;00m ioargs\u001b[39m.\u001b[39mencoding \u001b[39mand\u001b[39;00m \u001b[39m\"\u001b[39m\u001b[39mb\u001b[39m\u001b[39m\"\u001b[39m \u001b[39mnot\u001b[39;00m \u001b[39min\u001b[39;00m ioargs\u001b[39m.\u001b[39mmode:\n\u001b[1;32m    858\u001b[0m         \u001b[39m# Encoding\u001b[39;00m\n\u001b[0;32m--> 859\u001b[0m         handle \u001b[39m=\u001b[39m \u001b[39mopen\u001b[39;49m(\n\u001b[1;32m    860\u001b[0m             handle,\n\u001b[1;32m    861\u001b[0m             ioargs\u001b[39m.\u001b[39;49mmode,\n\u001b[1;32m    862\u001b[0m             encoding\u001b[39m=\u001b[39;49mioargs\u001b[39m.\u001b[39;49mencoding,\n\u001b[1;32m    863\u001b[0m             errors\u001b[39m=\u001b[39;49merrors,\n\u001b[1;32m    864\u001b[0m             newline\u001b[39m=\u001b[39;49m\u001b[39m\"\u001b[39;49m\u001b[39m\"\u001b[39;49m,\n\u001b[1;32m    865\u001b[0m         )\n\u001b[1;32m    866\u001b[0m     \u001b[39melse\u001b[39;00m:\n\u001b[1;32m    867\u001b[0m         \u001b[39m# Binary mode\u001b[39;00m\n\u001b[1;32m    868\u001b[0m         handle \u001b[39m=\u001b[39m \u001b[39mopen\u001b[39m(handle, ioargs\u001b[39m.\u001b[39mmode)\n",
      "\u001b[0;31mFileNotFoundError\u001b[0m: [Errno 2] No such file or directory: '/Users/simonlanger/Sommersemester23/XGLMBoost/src/data/freMTPL2freq.csv'"
     ]
    }
   ],
   "source": [
    "# Enthält Kundendaten von einer Kfz-Haftpflichtversicherung\n",
    "freq = pd.read_csv(data_path_freq)\n",
    "\n",
    "# Claim Anzahl entfernen (Erklärung siehe [4] Listing B.1)\n",
    "freq = freq.drop(columns=[\"ClaimNb\"])\n",
    "freq[\"IDpol\"] = freq[\"IDpol\"].astype(\"int64\")"
   ]
  },
  {
   "cell_type": "code",
   "execution_count": 42,
   "metadata": {},
   "outputs": [],
   "source": [
    "# Enthält die Schadenshöhe für jeden Schaden\n",
    "sev = pd.read_csv(data_path_sev)\n",
    "\n",
    "# Schadenshöhe und Vorkommen nach Kunden-ID aggregieren\n",
    "sev_agg = sev\n",
    "sev_agg[\"ClaimNb\"] = 1\n",
    "sev_agg = sev_agg.groupby(\"IDpol\").sum()[[\"ClaimNb\", \"ClaimAmount\"]].reset_index()\n",
    "sev_agg = sev_agg.rename(columns={\"ClaimAmount\": \"ClaimTotal\"})"
   ]
  },
  {
   "cell_type": "code",
   "execution_count": 43,
   "metadata": {},
   "outputs": [],
   "source": [
    "# freq und sev zusammenführen --> Datensatz mit der korrekten Anzahl an Schadensmeldungen\n",
    "freq = freq.merge(sev_agg, on=\"IDpol\", how=\"left\")\n",
    "freq[\"ClaimNb\"] = freq[\"ClaimNb\"].fillna(0)\n",
    "freq[\"ClaimTotal\"] = freq[\"ClaimTotal\"].fillna(0)\n",
    "\n",
    "# Vehicle Brand als kategoriales Merkmal definieren um Reihenfolge der Brands festzulegen\n",
    "freq[\"VehBrand\"] = pd.Categorical(\n",
    "    freq[\"VehBrand\"],\n",
    "    categories=[\n",
    "        \"B1\",\n",
    "        \"B2\",\n",
    "        \"B3\",\n",
    "        \"B4\",\n",
    "        \"B5\",\n",
    "        \"B6\",\n",
    "        \"B7\",\n",
    "        \"B8\",\n",
    "        \"B9\",\n",
    "        \"B10\",\n",
    "        \"B11\",\n",
    "        \"B12\",\n",
    "        \"B13\",\n",
    "        \"B14\",\n",
    "    ],\n",
    ")\n",
    "\n",
    "# Area Codes einer Ordinalskala zuweisen (A=1, B=2,...)\n",
    "freq[\"Area\"] = pd.Categorical(freq[\"Area\"], categories=[\"A\", \"B\", \"C\", \"D\", \"E\", \"F\"])\n",
    "freq[\"Area\"] = freq[\"Area\"].cat.codes + 1\n",
    "freq = freq.rename(columns={\"Area\": \"AreaCode\"})\n",
    "\n",
    "# Binäre Variable \"VehGas\" den Codes 0 und 1 zuordnen (Diesel = 0, Regular = 1)\n",
    "freq[\"VehGas\"] = pd.Categorical(freq[\"VehGas\"], categories=[\"Diesel\", \"Regular\"])\n",
    "freq[\"VehGas\"] = freq[\"VehGas\"].cat.codes\n",
    "\n",
    "# Datentyp von ClaimNb und Region anpassen\n",
    "freq = freq.astype({\"ClaimNb\": \"int64\", \"Region\": \"category\"})\n",
    "\n",
    "# Alle Einträge mit mehr als 5 Schadensmeldungen entfernen:\n",
    "freq = freq[freq[\"ClaimNb\"] <= 5]\n",
    "\n",
    "# Exposure kann maximal 1 sein --> alle Beobachtungen mit höheren Werten auf 1 setzen:\n",
    "freq[\"Exposure\"] = freq[\"Exposure\"].clip(lower=0, upper=1)\n",
    "\n",
    "# Log(Density)\n",
    "freq[\"log_Density\"] = np.log(freq[\"Density\"])\n",
    "freq = freq.drop(columns=[\"Density\"])\n",
    "\n",
    "# Alle Einträge aus sev entfernen die jetzt nicht mehr in freq enthalten sind:\n",
    "sev = sev[sev[\"IDpol\"].isin(freq[\"IDpol\"])][[\"IDpol\", \"ClaimAmount\"]]"
   ]
  },
  {
   "cell_type": "code",
   "execution_count": 44,
   "metadata": {},
   "outputs": [
    {
     "data": {
      "text/html": [
       "<div>\n",
       "<style scoped>\n",
       "    .dataframe tbody tr th:only-of-type {\n",
       "        vertical-align: middle;\n",
       "    }\n",
       "\n",
       "    .dataframe tbody tr th {\n",
       "        vertical-align: top;\n",
       "    }\n",
       "\n",
       "    .dataframe thead th {\n",
       "        text-align: right;\n",
       "    }\n",
       "</style>\n",
       "<table border=\"1\" class=\"dataframe\">\n",
       "  <thead>\n",
       "    <tr style=\"text-align: right;\">\n",
       "      <th></th>\n",
       "      <th>IDpol</th>\n",
       "      <th>Exposure</th>\n",
       "      <th>AreaCode</th>\n",
       "      <th>VehPower</th>\n",
       "      <th>VehAge</th>\n",
       "      <th>DrivAge</th>\n",
       "      <th>BonusMalus</th>\n",
       "      <th>VehBrand</th>\n",
       "      <th>VehGas</th>\n",
       "      <th>Region</th>\n",
       "      <th>ClaimNb</th>\n",
       "      <th>ClaimTotal</th>\n",
       "      <th>log_Density</th>\n",
       "    </tr>\n",
       "  </thead>\n",
       "  <tbody>\n",
       "    <tr>\n",
       "      <th>0</th>\n",
       "      <td>1</td>\n",
       "      <td>0.10</td>\n",
       "      <td>4</td>\n",
       "      <td>5</td>\n",
       "      <td>0</td>\n",
       "      <td>55</td>\n",
       "      <td>50</td>\n",
       "      <td>B12</td>\n",
       "      <td>1</td>\n",
       "      <td>R82</td>\n",
       "      <td>0</td>\n",
       "      <td>0.0</td>\n",
       "      <td>7.104144</td>\n",
       "    </tr>\n",
       "    <tr>\n",
       "      <th>1</th>\n",
       "      <td>3</td>\n",
       "      <td>0.77</td>\n",
       "      <td>4</td>\n",
       "      <td>5</td>\n",
       "      <td>0</td>\n",
       "      <td>55</td>\n",
       "      <td>50</td>\n",
       "      <td>B12</td>\n",
       "      <td>1</td>\n",
       "      <td>R82</td>\n",
       "      <td>0</td>\n",
       "      <td>0.0</td>\n",
       "      <td>7.104144</td>\n",
       "    </tr>\n",
       "    <tr>\n",
       "      <th>2</th>\n",
       "      <td>5</td>\n",
       "      <td>0.75</td>\n",
       "      <td>2</td>\n",
       "      <td>6</td>\n",
       "      <td>2</td>\n",
       "      <td>52</td>\n",
       "      <td>50</td>\n",
       "      <td>B12</td>\n",
       "      <td>0</td>\n",
       "      <td>R22</td>\n",
       "      <td>0</td>\n",
       "      <td>0.0</td>\n",
       "      <td>3.988984</td>\n",
       "    </tr>\n",
       "    <tr>\n",
       "      <th>3</th>\n",
       "      <td>10</td>\n",
       "      <td>0.09</td>\n",
       "      <td>2</td>\n",
       "      <td>7</td>\n",
       "      <td>0</td>\n",
       "      <td>46</td>\n",
       "      <td>50</td>\n",
       "      <td>B12</td>\n",
       "      <td>0</td>\n",
       "      <td>R72</td>\n",
       "      <td>0</td>\n",
       "      <td>0.0</td>\n",
       "      <td>4.330733</td>\n",
       "    </tr>\n",
       "    <tr>\n",
       "      <th>4</th>\n",
       "      <td>11</td>\n",
       "      <td>0.84</td>\n",
       "      <td>2</td>\n",
       "      <td>7</td>\n",
       "      <td>0</td>\n",
       "      <td>46</td>\n",
       "      <td>50</td>\n",
       "      <td>B12</td>\n",
       "      <td>0</td>\n",
       "      <td>R72</td>\n",
       "      <td>0</td>\n",
       "      <td>0.0</td>\n",
       "      <td>4.330733</td>\n",
       "    </tr>\n",
       "  </tbody>\n",
       "</table>\n",
       "</div>"
      ],
      "text/plain": [
       "   IDpol  Exposure  AreaCode  VehPower  VehAge  DrivAge  BonusMalus VehBrand  \\\n",
       "0      1      0.10         4         5       0       55          50      B12   \n",
       "1      3      0.77         4         5       0       55          50      B12   \n",
       "2      5      0.75         2         6       2       52          50      B12   \n",
       "3     10      0.09         2         7       0       46          50      B12   \n",
       "4     11      0.84         2         7       0       46          50      B12   \n",
       "\n",
       "   VehGas Region  ClaimNb  ClaimTotal  log_Density  \n",
       "0       1    R82        0         0.0     7.104144  \n",
       "1       1    R82        0         0.0     7.104144  \n",
       "2       0    R22        0         0.0     3.988984  \n",
       "3       0    R72        0         0.0     4.330733  \n",
       "4       0    R72        0         0.0     4.330733  "
      ]
     },
     "execution_count": 44,
     "metadata": {},
     "output_type": "execute_result"
    }
   ],
   "source": [
    "freq.head()"
   ]
  },
  {
   "cell_type": "code",
   "execution_count": 45,
   "metadata": {},
   "outputs": [
    {
     "data": {
      "text/html": [
       "<div>\n",
       "<style scoped>\n",
       "    .dataframe tbody tr th:only-of-type {\n",
       "        vertical-align: middle;\n",
       "    }\n",
       "\n",
       "    .dataframe tbody tr th {\n",
       "        vertical-align: top;\n",
       "    }\n",
       "\n",
       "    .dataframe thead th {\n",
       "        text-align: right;\n",
       "    }\n",
       "</style>\n",
       "<table border=\"1\" class=\"dataframe\">\n",
       "  <thead>\n",
       "    <tr style=\"text-align: right;\">\n",
       "      <th></th>\n",
       "      <th>IDpol</th>\n",
       "      <th>ClaimAmount</th>\n",
       "    </tr>\n",
       "  </thead>\n",
       "  <tbody>\n",
       "    <tr>\n",
       "      <th>0</th>\n",
       "      <td>1552</td>\n",
       "      <td>995.20</td>\n",
       "    </tr>\n",
       "    <tr>\n",
       "      <th>1</th>\n",
       "      <td>1010996</td>\n",
       "      <td>1128.12</td>\n",
       "    </tr>\n",
       "    <tr>\n",
       "      <th>2</th>\n",
       "      <td>4024277</td>\n",
       "      <td>1851.11</td>\n",
       "    </tr>\n",
       "    <tr>\n",
       "      <th>3</th>\n",
       "      <td>4007252</td>\n",
       "      <td>1204.00</td>\n",
       "    </tr>\n",
       "    <tr>\n",
       "      <th>4</th>\n",
       "      <td>4046424</td>\n",
       "      <td>1204.00</td>\n",
       "    </tr>\n",
       "  </tbody>\n",
       "</table>\n",
       "</div>"
      ],
      "text/plain": [
       "     IDpol  ClaimAmount\n",
       "0     1552       995.20\n",
       "1  1010996      1128.12\n",
       "2  4024277      1851.11\n",
       "3  4007252      1204.00\n",
       "4  4046424      1204.00"
      ]
     },
     "execution_count": 45,
     "metadata": {},
     "output_type": "execute_result"
    }
   ],
   "source": [
    "sev.head()"
   ]
  },
  {
   "cell_type": "code",
   "execution_count": 46,
   "metadata": {},
   "outputs": [],
   "source": [
    "# Kategoriale Merkmale One-Hot Encoden (k-Kategorien führen zu k-1 Spalten)\n",
    "categorical_columns = [\"VehBrand\", \"Region\"]\n",
    "freq = pd.get_dummies(freq, columns=categorical_columns, drop_first=False)"
   ]
  },
  {
   "cell_type": "code",
   "execution_count": 47,
   "metadata": {},
   "outputs": [],
   "source": [
    "# Datensatz in Merkmale x und Zielvariable y aufteilen\n",
    "y_freq = freq[\"ClaimNb\"]\n",
    "x_freq = freq.drop(columns=[\"IDpol\", \"ClaimNb\", \"ClaimTotal\"])"
   ]
  },
  {
   "cell_type": "code",
   "execution_count": 48,
   "metadata": {},
   "outputs": [],
   "source": [
    "# Aufteilen in Trainings- und Testdaten\n",
    "x_freq_train, x_freq_test, y_freq_train, y_freq_test = train_test_split(\n",
    "    x_freq, y_freq, test_size=0.1\n",
    ")\n",
    "\n",
    "# Exposures getrennt speichern\n",
    "exposures_train = x_freq_train[\"Exposure\"]\n",
    "exposures_test = x_freq_test[\"Exposure\"]\n",
    "\n",
    "x_freq_train = x_freq_train.drop(columns=[\"Exposure\"])\n",
    "x_freq_test = x_freq_test.drop(columns=[\"Exposure\"])"
   ]
  },
  {
   "cell_type": "code",
   "execution_count": 49,
   "metadata": {},
   "outputs": [],
   "source": [
    "# Stetige und binäre Merkmale standardisieren:\n",
    "continuous_columns = [\n",
    "    \"AreaCode\",\n",
    "    \"BonusMalus\",\n",
    "    \"log_Density\",\n",
    "    \"DrivAge\",\n",
    "    \"VehAge\",\n",
    "    \"VehPower\",\n",
    "]\n",
    "binary_columns = [\"VehGas\"]\n",
    "\n",
    "x_freq_train_sc = x_freq_train.copy()\n",
    "x_freq_test_sc = x_freq_test.copy()\n",
    "\n",
    "# Trainings- und Testdatensatz werden getrennt standardisiert, um Information Leakage der Testdaten zu verhindern\n",
    "scaler_freq = StandardScaler()\n",
    "x_freq_train_sc[continuous_columns + binary_columns] = scaler_freq.fit_transform(\n",
    "    x_freq_train_sc[continuous_columns + binary_columns]\n",
    ")\n",
    "x_freq_test_sc[continuous_columns + binary_columns] = scaler_freq.transform(\n",
    "    x_freq_test_sc[continuous_columns + binary_columns]\n",
    ")"
   ]
  },
  {
   "cell_type": "markdown",
   "metadata": {},
   "source": [
    "<font size=\"3\">\n",
    "Der Aufbau von XGLMBoost ähnelt dem des synthetischen Datensatzes. Da es sich jedoch um die Vorhersage von Zähldaten handelt, wird in diesem Fall eine Poisson-GLM anstelle einer klassischen linearen Regression in der Antwortschicht verwendet.\n",
    "Außerdem wird nur das am besten abschneidende Gradient Boosting-Modell verwendet."
   ]
  },
  {
   "cell_type": "code",
   "execution_count": 50,
   "metadata": {},
   "outputs": [],
   "source": [
    "# Erstelle ein Poisson Regressor (GLM) Modell\n",
    "glm = PoissonRegressor()\n",
    "glm.fit(x_freq_train_sc, y_freq_train)\n",
    "y_pred_glm_train = glm.predict(x_freq_train_sc)\n",
    "y_pred_glm_test = glm.predict(x_freq_test_sc)"
   ]
  },
  {
   "cell_type": "code",
   "execution_count": 51,
   "metadata": {},
   "outputs": [],
   "source": [
    "# Residuen berechnen\n",
    "residuals_train = y_freq_train - y_pred_glm_train\n",
    "residuals_test = y_freq_test - y_pred_glm_test"
   ]
  },
  {
   "cell_type": "code",
   "execution_count": 52,
   "metadata": {},
   "outputs": [],
   "source": [
    "# Initialisiere Arrays für die Vorhersagen\n",
    "boosted_predictions_gb_train = np.zeros_like(y_pred_glm_train)\n",
    "boosted_predictions_gb_test = np.zeros_like(y_pred_glm_test)\n",
    "\n",
    "n_iterations = 10  # Anzahl der Boosting-Iterationen\n",
    "learning_rate = 0.5  # Lernrate"
   ]
  },
  {
   "cell_type": "code",
   "execution_count": 53,
   "metadata": {},
   "outputs": [],
   "source": [
    "# Boosting-Schleife Gradient Boosting\n",
    "for i in range(n_iterations):\n",
    "    # Gradient Boosting-Modell initialisieren\n",
    "    boosting_model_gb = GradientBoostingRegressor(n_estimators=1, learning_rate=learning_rate, max_depth=10)\n",
    "    \n",
    "    # Modell auf den Residuen trainieren\n",
    "    boosting_model_gb.fit(x_freq_train_sc, residuals_train)\n",
    "    \n",
    "    # Vorhersagen des Gradient Boosting-Modells für die Trainingsdaten\n",
    "    boosted_residuals_gb_train = boosting_model_gb.predict(x_freq_train_sc)\n",
    "    boosted_residuals_gb_test = boosting_model_gb.predict(x_freq_test_sc)\n",
    "    \n",
    "    # Boosted Residuen aktualisieren\n",
    "    boosted_predictions_gb_train += learning_rate * boosted_residuals_gb_train\n",
    "    boosted_predictions_gb_test += learning_rate * boosted_residuals_gb_test\n",
    "\n",
    "    # Aktualisierung der Residuen\n",
    "    residuals_train = y_freq_train - y_pred_glm_train - boosted_predictions_gb_train\n",
    "    residuals_test = y_freq_test - y_pred_glm_test - boosted_predictions_gb_test\n",
    "\n",
    "# Vorhersagen des Gradient Boosting-Modells\n",
    "y_pred_boosted_gb_train = y_pred_glm_train + boosted_predictions_gb_train\n",
    "y_pred_boosted_gb_test = y_pred_glm_test + boosted_predictions_gb_test"
   ]
  },
  {
   "cell_type": "code",
   "execution_count": 54,
   "metadata": {},
   "outputs": [
    {
     "data": {
      "image/png": "[encoded data removed]",
      "text/plain": [
       "<Figure size 1000x500 with 2 Axes>"
      ]
     },
     "metadata": {},
     "output_type": "display_data"
    },
    {
     "name": "stdout",
     "output_type": "stream",
     "text": [
      "MSE XGLMBoost: 0.04137601892845959\n",
      "MSE GLM: 0.04178410188957509\n"
     ]
    }
   ],
   "source": [
    "# Visualisierung der Vorhersagen\n",
    "fig_performance = plt.figure(tight_layout=True, figsize=(10, 5))\n",
    "spec = GridSpec(ncols=2, nrows=1, figure=fig_performance)\n",
    "axs_perf = [\n",
    "    fig_performance.add_subplot(spec[0, 0:1]),\n",
    "    fig_performance.add_subplot(spec[0, 1:2]),\n",
    "]\n",
    "\n",
    "axs_perf[0].scatter(y_freq_test, y_pred_boosted_gb_test, s=1)\n",
    "axs_perf[1].scatter(y_freq_test, y_pred_glm_test, s=1)\n",
    "\n",
    "# Layout\n",
    "for ax in axs_perf:\n",
    "    ax.set_xlabel(\"True value\")\n",
    "    ax.set_ylabel(\"Estimated value\")\n",
    "    ax.set_xlim((-4, 4))\n",
    "    ax.set_ylim((-4, 4))\n",
    "\n",
    "fig_performance.suptitle(\"XGLMBoost vs. GLM\")\n",
    "plt.show()\n",
    "\n",
    "print(\"MSE XGLMBoost: \" + str(mean_squared_error(y_freq_test, y_pred_boosted_gb_test)))\n",
    "print(\"MSE GLM: \" + str(mean_squared_error(y_freq_test, y_pred_glm_test)))"
   ]
  },
  {
   "cell_type": "markdown",
   "metadata": {},
   "source": [
    "Die Ergebnisse zeigen, dass der XGLMBoost-Ansatz zwar geringfügig besser abschneidet, aber noch weiter optimiert werden muss."
   ]
  }
 ],
 "metadata": {
  "kernelspec": {
   "display_name": "Pyhton 3.9.6 (XGLMBoost)",
   "language": "python",
   "name": "xglmboost"
  },
  "language_info": {
   "codemirror_mode": {
    "name": "ipython",
    "version": 3
   },
   "file_extension": ".py",
   "mimetype": "text/x-python",
   "name": "python",
   "nbconvert_exporter": "python",
   "pygments_lexer": "ipython3",
   "version": "3.9.6"
  },
  "orig_nbformat": 4
 },
 "nbformat": 4,
 "nbformat_minor": 2
}
