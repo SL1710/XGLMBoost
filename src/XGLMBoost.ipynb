{
 "cells": [
  {
   "cell_type": "markdown",
   "metadata": {},
   "source": [
    "<font size=\"6\">\n",
    "<p align=\"center\"><b>XGLMBoost</b> <br>\n",
    "Ein Proof of Concept der Kombination von GLM und XGBoost</p>"
   ]
  },
  {
   "cell_type": "markdown",
   "metadata": {},
   "source": [
    "# Inhalt \n",
    "[__Dependencies__](#dependencies)<br>\n",
    "<br>\n",
    "[__1. Einleitung__](#1-bullet) <br>\n",
    "<br>\n",
    "[__2. Datensatz 1: Künstlicher Datensatz__](#2-bullet) <br>\n",
    "&nbsp;&nbsp;&nbsp;&nbsp;[2.1 Künstlichen Datensatz erzeugen](#2_1-bullet) <br>\n",
    "&nbsp;&nbsp;&nbsp;&nbsp;[2.2 XGLMBoost](#2_2-bullet) <br>\n",
    "&nbsp;&nbsp;&nbsp;&nbsp;&nbsp;&nbsp;&nbsp;&nbsp;[2.2.1 GLM](#2_2_1-bullet) <br>\n",
    "&nbsp;&nbsp;&nbsp;&nbsp;&nbsp;&nbsp;&nbsp;&nbsp;[2.2.2 XGLMBoost](#2_2_2-bullet) <br>\n",
    "&nbsp;&nbsp;&nbsp;&nbsp;&nbsp;&nbsp;&nbsp;&nbsp;[2.2.3 Performance Vergleich](#2_2_3-bullet) <br>\n",
    "<br>\n",
    "[__3. Datensatz 2: freMTPL2freq__](#3-bullet)<br>\n",
    "&nbsp;&nbsp;&nbsp;&nbsp;[3.1 Vorverarbeitung](#3_1-bullet) <br>\n",
    "&nbsp;&nbsp;&nbsp;&nbsp;[3.2 XGLMBoost](#3_2-bullet) <br>\n",
    "&nbsp;&nbsp;&nbsp;&nbsp;[3.3 Auswertung](#3_3-bullet) <br>\n",
    "<br>\n",
    "[__4. Zusammenfassung__](#4-bullet)<br>\n"
   ]
  },
  {
   "cell_type": "markdown",
   "metadata": {},
   "source": [
    "# Dependencies <a class=\"anchor\" id=\"dependencies\"></a>"
   ]
  },
  {
   "cell_type": "markdown",
   "metadata": {},
   "source": [
    "<font size=\"3\">\n",
    "Zur Ausführung des Codes in diesem Notebook sind die folgenden Bibliotheken notwendig:"
   ]
  },
  {
   "cell_type": "code",
   "execution_count": 30,
   "metadata": {},
   "outputs": [],
   "source": [
    "import numpy as np\n",
    "import pandas as pd\n",
    "import math\n",
    "import os\n",
    "import random\n",
    "import tensorflow as tf\n",
    "import matplotlib.pyplot as plt\n",
    "from matplotlib import patches\n",
    "from matplotlib.gridspec import GridSpec\n",
    "from sklearn.linear_model import LinearRegression,PoissonRegressor\n",
    "from sklearn.metrics import r2_score, mean_absolute_error, mean_squared_error\n",
    "from sklearn.model_selection import GridSearchCV, train_test_split\n",
    "from sklearn.preprocessing import StandardScaler\n",
    "from matplotlib.gridspec import GridSpec\n",
    "from sklearn.tree import DecisionTreeRegressor, plot_tree\n",
    "from sklearn.ensemble import RandomForestRegressor, GradientBoostingRegressor"
   ]
  },
  {
   "cell_type": "markdown",
   "metadata": {},
   "source": [
    "<hr>\n",
    "\n",
    "# 1. Einleitung <a class=\"anchor\" id=\"1-bullet\"></a>\n",
    "\n",
    "<hr>"
   ]
  },
  {
   "cell_type": "markdown",
   "metadata": {},
   "source": [
    "<font size=\"3\">\n",
    "<em>XGLMBoost</em> ist der Versuch einer neuartigen Erweiterung für generalisierte lineare Modelle (GLM), die auf dem Konzept des Boosting basiert und vom XGBoost-Ansatz inspiriert ist. Diese Erweiterung zielt darauf ab, die Erklärbarkeit von GLMs durch die Kombination von Residuenanalyse und Boosting zu verbessern. Der Aufbau basiert auf dem Projekt <a href=\"https://github.com/PK1706/pyLocalGLMnet\">pyLocalGLMnet</a>, das eine Python-Implementierung des Richman/Wüthrich-Ansatzes enthält. \n",
    "Die Grundidee von XGLMBoost besteht darin, die Vorhersagegenauigkeit eines klassischen GLM durch die Integration von Boosting zu erhöhen und gleichzeitig die Interpretierbarkeit der Modellvorhersagen zu verbessern. Dabei werden die Residuen, d.h. die Differenz zwischen den beobachteten und den vorhergesagten Werten des GLM, als neues Trainingsziel für das Boosting verwendet. Dieser Ansatz ermöglicht es, die Modellfehler gezielt zu reduzieren und gleichzeitig die Interpretierbarkeit der Modellvorhersagen zu erhalten.<br>\n",
    "<br>\n",
    "Der erste Datensatz ist ähnlich wie beim ursprünglichen XGBoost-Ansatz ein synthetischer Datensatz. Dieser dient dazu, die Wirksamkeit und die Grenzen unseres XGLMBoost-Ansatzes zu veranschaulichen, da der wahre Zusammenhang bekannt ist. Anschließend demonstrieren wir die Anwendung von XGLMBoost auf reale Daten: Wir betrachten die Vorhersage von Schadensfällen in der Kfz-Haftpflichtversicherung. Diese praktische Anwendung zeigt die Nützlichkeit und Anpassbarkeit unseres Ansatzes an reale Probleme.\n"
   ]
  },
  {
   "cell_type": "markdown",
   "metadata": {},
   "source": [
    "<hr>\n",
    "\n",
    "# 2. Datensatz 1: Künstlicher Datensatz <a class=\"anchor\" id=\"2-bullet\"></a>\n",
    "\n",
    "<hr>"
   ]
  },
  {
   "cell_type": "markdown",
   "metadata": {},
   "source": [
    "## 2.1 Künstlichen Datensatz erzeugen <a class=\"anchor\" id=\"2_1-bullet\"></a>"
   ]
  },
  {
   "cell_type": "markdown",
   "metadata": {},
   "source": [
    "<font size=\"3\">\n",
    "Der synthetische Datensatz (von  <a href=\"https://github.com/PK1706/pyLocalGLMnet\">pyLocalGLMnet</a>) besteht aus insgesamt 8 Merkmalen. <em>x7</em> und <em>x8</em> haben keinen Einfluss auf die Zielvariable. <em>x8</em> ist jedoch zu 50% mit <em>x2</em> korreliert. Der funktionale Zusammenhang der Zielvariable ergibt sich wie folgt:\n",
    "\n",
    "\\begin{equation} \n",
    "\\mu\\left( x \\right)=\\frac{1}{2}x_{1}-\\frac{1}{4}x^2_{2}+\\frac{1}{2}\\left\\lvert x_{3} \\right\\rvert sin\\left( 2x_{3} \\right)+\\frac{1}{2}x_{4}x_{5}+\\frac{1}{8}x^{2}_{5}x_{6}\n",
    "\\end{equation}\n",
    "\n",
    "Die Merkmalsausprägungen werden mithilfe des Zufallsgenerators von Numpy auf Basis einer Standardnormalverteilung erzeugt. Hierdurch sind die Merkmale bereits standardisiert, d. h. alle haben den Mittelwert <em>µ=0</em> und <em>std=1</em>. Bei einem anderen Datensatz müssten die Merkmale zuerst standardisiert werden, damit die Werte die gleiche Größenordnung haben. Da die Daten künstlich erzeugt werden, wird sowohl ein Trainings- als auch ein Testdatensatz mit 100000 Beobachtungen erzeugt. Bei einem realen Datensatz müsste der vorhandene Datensatz entsprechend aufgeteilt werden (bspw. 80:20)."
   ]
  },
  {
   "cell_type": "code",
   "execution_count": 31,
   "metadata": {},
   "outputs": [],
   "source": [
    "# Zielfunktion\n",
    "def target_variable(x):\n",
    "    return (\n",
    "        (1 / 2) * x[0]\n",
    "        - (1 / 4) * (x[1] ** 2)\n",
    "        + (1 / 2) * abs(x[2]) * math.sin(2 * x[2])\n",
    "        + (1 / 2) * x[3] * x[4]\n",
    "        + (1 / 8) * (x[4] ** 2) * x[5]\n",
    "    )"
   ]
  },
  {
   "cell_type": "code",
   "execution_count": 32,
   "metadata": {},
   "outputs": [],
   "source": [
    "# Random Number Generator\n",
    "rng = np.random.default_rng()"
   ]
  },
  {
   "cell_type": "code",
   "execution_count": 33,
   "metadata": {},
   "outputs": [],
   "source": [
    "# Trainingsdatensatz (n = 100.000) erzeugen (Variablen x1, x3, x4, x5, x6, x7)\n",
    "x1_train = rng.standard_normal(size=(100000, 1))\n",
    "x3_7_train = rng.standard_normal(size=(100000, 5))\n",
    "\n",
    "# Variablen x2, x8 mit 50 % Korrelation erzeugen\n",
    "cov_matrix = [[1, 0.5], [0.5, 1]]\n",
    "x2_x8_train = rng.multivariate_normal(mean=[0, 0], cov=cov_matrix, size=100000)\n",
    "\n",
    "# Trainingsdatensatz zusammenfügen und Zielvariable y bestimmen\n",
    "x_train = np.column_stack((x1_train, x2_x8_train[:, 0], x3_7_train, x2_x8_train[:, 1]))\n",
    "y_train = np.array(list(map(target_variable, x_train[:, 0:7])))"
   ]
  },
  {
   "cell_type": "code",
   "execution_count": 34,
   "metadata": {},
   "outputs": [],
   "source": [
    "# Testdatensatz (n = 100.000) erzeugen (Variablen x1, x3, x4, x5, x6, x7)\n",
    "x1_test = rng.standard_normal(size=(100000, 1))\n",
    "x3_7_test = rng.standard_normal(size=(100000, 5))\n",
    "\n",
    "# Variablen x2, x8 mit 50 % Korrelation erzeugen\n",
    "x2_x8_test = rng.multivariate_normal(mean=[0, 0], cov=cov_matrix, size=100000)\n",
    "\n",
    "# Testdatensatz zusammenfügen und Zielvariable y bestimmen\n",
    "x_test = np.column_stack((x1_test, x2_x8_test[:, 0], x3_7_test, x2_x8_test[:, 1]))\n",
    "y_test = np.array(list(map(target_variable, x_test[:, 0:7])))"
   ]
  },
  {
   "cell_type": "markdown",
   "metadata": {},
   "source": [
    "## 2.2 XGLMBoost <a class=\"anchor\" id=\"2_2-bullet\"></a>"
   ]
  },
  {
   "cell_type": "markdown",
   "metadata": {},
   "source": [
    "<font size=\"3\">\n",
    "In diesem Kapitel soll auf Basis der Trainingsdaten zuerst ein klassisches GLM trainert und danach geboostet. Für diese bietet sich daraufhin der Vergleich der Vorhersagegenauigkeit beider Modelle an."
   ]
  },
  {
   "cell_type": "markdown",
   "metadata": {},
   "source": [
    "### 2.2.1 GLM <a class=\"anchor\" id=\"2_2_1-bullet\"></a>"
   ]
  },
  {
   "cell_type": "markdown",
   "metadata": {},
   "source": [
    "<font size=\"3\">\n",
    "Generalisierte lineare Modelle, kurz GLMs, erweitern herkömmliche lineare Regressionsmodelle, um auch nichtlineare Zusammenhänge abbilden zu können. Diese Modelle bestehen im Wesentlichen aus drei wesentlichen Komponenten: der systematischen Komponente, der Verbindungsfunktion und der Zufallskomponente. Die systematische Komponente spiegelt die klassischen Regressionsparameter wider, die in einer linearen Funktion auftreten. Die Zufallskomponente beschreibt die Verteilung der Residuen eines normalen linearen Regressionsmodells. Im Gegensatz zur Beschränkung auf eine Normalverteilung, wie sie in der klassischen linearen Regression erforderlich ist, erlaubt ein GLM die Verwendung anderer Verteilungen aus der Exponentialfamilie. Dazu gehören beispielsweise die Binomial- oder die Poisson-Verteilung. Die Verknüpfungsfunktion verknüpft die Regressionsparameter mit der gewählten Zufallskomponente. Die Auswahl der geeigneten Zufallskomponente und der entsprechenden Verknüpfungsfunktion hängt von der konkreten Fragestellung und den vorliegenden Daten ab. Aufgrund der guten Interpretierbarkeit der Ergebnisse anhand der Koeffizienten finden GLMs in verschiedenen Bereichen, wie z.B. im Versicherungswesen, vielfältige Anwendung\n",
    "<br><br>\n",
    "Für den synthetischen Datensatz wurde im  <a href=\"https://github.com/PK1706/pyLocalGLMnet\">pyLocalGLMnet</a> die Identity-Link Funktion verwendet. Das resultierende GLM entspricht also einer klassischen linearen Regression. Um ein GLM mit Python zu erzeugen, bieten sich Bibliotheken wie scikit-learn an."
   ]
  },
  {
   "cell_type": "code",
   "execution_count": 35,
   "metadata": {},
   "outputs": [],
   "source": [
    "glm = LinearRegression()\n",
    "glm.fit(x_train, y_train)\n",
    "\n",
    "y_pred_glm = glm.predict(x_test)"
   ]
  },
  {
   "cell_type": "markdown",
   "metadata": {},
   "source": [
    "### 2.2.2 XGLMBoost <a class=\"anchor\" id=\"2_2_2-bullet\"></a>"
   ]
  },
  {
   "cell_type": "markdown",
   "metadata": {},
   "source": [
    "<font size=\"3\">\n",
    "In diesem Teil des Codes wird der Begriff \"Residuen\" verwendet, um die Differenz zwischen den tatsächlichen Testzielwerten (y_test) und den Vorhersagen des linearen Regressionsmodells (y_pred_glm) zu beschreiben. Residuen sind die Abweichungen oder Fehler zwischen den tatsächlichen Beobachtungswerten und den vom Modell vorhergesagten Werten.\n",
    "<br><br>\n",
    "Die Zeile residuals = y_test - y_pred_glm berechnet diese Residuen. Durch Subtraktion der Vorhersagen des linearen Regressionsmodells von den tatsächlichen Testzielwerten werden die Abweichungen zwischen den vorhergesagten und den tatsächlichen Werten ermittelt. Sind die Residuen positiv, so hat das Modell die Werte unterschätzt, sind sie negativ, so hat das Modell die Werte überschätzt."
   ]
  },
  {
   "cell_type": "code",
   "execution_count": 36,
   "metadata": {},
   "outputs": [],
   "source": [
    "# Residuen berechnen\n",
    "residuals = y_test - y_pred_glm"
   ]
  },
  {
   "cell_type": "markdown",
   "metadata": {},
   "source": [
    "<font size=\"3\">\n",
    "Es werden Arrays initialisiert, um die Vorhersagen der drei Boosting-Modelle (Decision Trees, Random Forest und Gradient Boosting) zu speichern. Diese Arrays werden in den folgenden Iterationen verwendet, um die kumulativen Auswirkungen der Boosting-Schritte zu verfolgen und die Gesamtvorhersagen für jedes Modell zu erstellen.\n",
    "<br><br>\n",
    "boosted_predictions_dt, boosted_predictions_rf und boosted_predictions_gb: Diese Arrays werden mit Nullen initialisiert und haben die gleiche Form wie das Array y_pred_glm, das die Vorhersagen des linearen Regressionsmodells enthält. Diese Arrays werden später in den Boosting-Schleifen verwendet, um die schrittweisen Verbesserungen der Vorhersagen durch die Boosting-Modelle zu speichern.\n",
    "<br><br>\n",
    "n_iterations: Dies ist eine vordefinierte Anzahl von Iterationen, die in den Boosting-Schleifen durchlaufen werden. Jede Iteration fügt dem Modell eine weitere Komponente hinzu, um die Vorhersagegenauigkeit schrittweise zu verbessern.\n",
    "<br><br>\n",
    "learning_rate: Die Lernrate ist ein Parameter, der angibt, wie stark die Vorhersagen der Boosting-Modelle in jeder Iteration berücksichtigt werden. Eine höhere Lernrate bedeutet eine stärkere Berücksichtigung der Boosting-Vorhersagen, aber auch ein höheres Risiko des Overfittings."
   ]
  },
  {
   "cell_type": "code",
   "execution_count": 37,
   "metadata": {},
   "outputs": [],
   "source": [
    "# Initialisiere Arrays für die Vorhersagen\n",
    "boosted_predictions_dt = np.zeros_like(y_pred_glm)\n",
    "boosted_predictions_rf = np.zeros_like(y_pred_glm)\n",
    "boosted_predictions_gb = np.zeros_like(y_pred_glm)\n",
    "\n",
    "n_iterations = 10\n",
    "learning_rate = 0.5"
   ]
  },
  {
   "cell_type": "markdown",
   "metadata": {},
   "source": [
    "<font size=\"3\">\n",
    "In diesem Abschnitt wird eine Boosting-Iteration für Entscheidungsbaum-, Random Forest und Gradient Boosting-Verfahren durchgeführt, um die Vorhersagegenauigkeit zu verbessern. Innerhalb einer Schleife werden mehrere Iterationen durchgeführt. In jeder Iteration wird ein spezifisches Boosting-Modell erstellt und auf die verbleibenden Fehler des ursprünglichen Modells trainiert. Die Vorhersagen dieses Boosting-Modells werden mit einer Lernrate skaliert und zu den vorherigen Boosting-Vorhersagen addiert. Die Residuen, die die Differenz zwischen den tatsächlichen Werten und den bisherigen Vorhersagen darstellen, werden aktualisiert. Am Ende der Schleife werden die kumulierten Vorhersagen des spezifischen Boosting-Modells zu den ursprünglichen glm-Vorhersagen addiert, um die Gesamtvorhersagen zu erzeugen. Dieser Prozess wird in mehreren Iterationen wiederholt, um die Gesamtprognosen schrittweise zu verbessern."
   ]
  },
  {
   "cell_type": "code",
   "execution_count": 38,
   "metadata": {},
   "outputs": [],
   "source": [
    "# Boosting-Schleife Decission Tree\n",
    "for i in range(n_iterations):\n",
    " \n",
    "    boosting_model_dt = DecisionTreeRegressor(max_depth=50)\n",
    "    boosting_model_dt.fit(x_train, residuals)\n",
    "    boosted_residuals_dt = boosting_model_dt.predict(x_train)\n",
    "    boosted_predictions_dt += learning_rate * boosted_residuals_dt\n",
    "\n",
    "    # Aktualisierung der Residuen\n",
    "    residuals = y_test - y_pred_glm - boosted_predictions_dt \n",
    "\n",
    "# Vorhersage Decission Tree\n",
    "y_pred_boosted_dt = y_pred_glm + boosted_predictions_dt"
   ]
  },
  {
   "cell_type": "code",
   "execution_count": 39,
   "metadata": {},
   "outputs": [],
   "source": [
    "# Boosting-Schleife Random Forest\n",
    "for i in range(n_iterations):\n",
    " \n",
    "    boosting_model_rf = RandomForestRegressor(max_depth=50)\n",
    "    boosting_model_rf.fit(x_train, residuals)\n",
    "    boosted_residuals_rf = boosting_model_rf.predict(x_train)\n",
    "    boosted_predictions_rf += learning_rate * boosted_residuals_rf\n",
    "\n",
    "    # Aktualisierung der Residuen\n",
    "    residuals = y_test - y_pred_glm - boosted_predictions_rf \n",
    "\n",
    "# Vorhersage Random Forest\n",
    "y_pred_boosted_rf = y_pred_glm + boosted_predictions_rf"
   ]
  },
  {
   "cell_type": "code",
   "execution_count": 40,
   "metadata": {},
   "outputs": [],
   "source": [
    "# Boosting-Schleife Gradient Boosting\n",
    "for i in range(n_iterations):\n",
    " \n",
    "    boosting_model_gb = GradientBoostingRegressor(max_depth=50)\n",
    "    boosting_model_gb.fit(x_train, residuals)\n",
    "    boosted_residuals_gb = boosting_model_gb.predict(x_train)\n",
    "    boosted_predictions_gb += learning_rate * boosted_residuals_gb\n",
    "\n",
    "    # Aktualisierung der Residuen\n",
    "    residuals = y_test - y_pred_glm - boosted_predictions_gb \n",
    "\n",
    "# Vorhersage Gradient Boosting\n",
    "y_pred_boosted_gb = y_pred_glm + boosted_predictions_gb"
   ]
  },
  {
   "cell_type": "markdown",
   "metadata": {},
   "source": [
    "### 2.2.3 Performance Vergleich <a class=\"anchor\" id=\"2_2_3-bullet\"></a>"
   ]
  },
  {
   "cell_type": "markdown",
   "metadata": {},
   "source": [
    "<font size=\"3\">\n",
    "In diesem Abschnitt werden verschiedene Evaluierungsmetriken berechnet, um die Leistung der Boosting-Modelle (Decision Trees, Random Forest und Gradient Boosting) sowie des ursprünglichen linearen Regressionsmodells (GLM) zu bewerten. Die berechneten Metriken bieten Einblicke in die Genauigkeit und Effektivität der verschiedenen Modelle bei der Vorhersage.\n",
    "<br><br>\n",
    "\n",
    "### Berechnung des Mean Squared Error (MSE)\n",
    "Der Mean Squared Error misst die durchschnittliche quadratische Abweichung zwischen den tatsächlichen Werten und den vorhergesagten Werten. Für jedes Modell (Decision Tree, Random Forest, Gradient Boosting und GLM) wird der MSE berechnet und gespeichert.\n",
    "<br><br>\n",
    "\n",
    "### Berechnung von R^2\n",
    "Der R^2-Wert, auch als Bestimmtheitsmaß bekannt, gibt an, wie gut die Vorhersagen im Vergleich zu einem einfachen Durchschnittsmodell sind. Er reicht von 0 (schlechte Anpassung) bis 1 (perfekte Anpassung). Die R^2-Werte werden für jedes Modell berechnet und gespeichert.\n",
    "<br><br>\n",
    "\n",
    "### Berechnung des Mean Absolute Error (MAE)\n",
    "Der Mean Absolute Error misst die durchschnittliche absolute Abweichung zwischen den tatsächlichen Werten und den vorhergesagten Werten. Er liefert eine Vorstellung von der durchschnittlichen Größe der Fehler. MAE-Werte werden für jedes Modell berechnet und gespeichert.\n",
    "<br><br>\n",
    "\n",
    "### Berechnung des Root Mean Squared Error (RMSE)\n",
    "Der Root Mean Squared Error ist die Quadratwurzel des MSE und gibt die durchschnittliche Abweichung zwischen den tatsächlichen und vorhergesagten Werten in den ursprünglichen Einheiten der Zielvariable wieder. RMSE-Werte werden für jedes Modell berechnet und gespeichert.\n",
    "\n",
    "Anschließend werden die berechneten Metriken in einem übersichtlichen Dataframe zusammengefasst und ausgegeben. Dieser Dataframe zeigt die Performance jedes Modells in Bezug auf die verschiedenen Metriken, was einen direkten Vergleich ermöglicht und dabei hilft, das am besten geeignete Modell für die spezifische Anwendung zu identifizieren."
   ]
  },
  {
   "cell_type": "code",
   "execution_count": 41,
   "metadata": {},
   "outputs": [
    {
     "name": "stdout",
     "output_type": "stream",
     "text": [
      "               Model       MSE       R^2       MAE      RMSE\n",
      "0      Decision Tree  0.000048  0.999940  0.004279  0.006942\n",
      "1      Random Forest  0.002027  0.997478  0.033641  0.045018\n",
      "2  Gradient Boosting  0.000002  0.999998  0.001026  0.001405\n",
      "3                GLM  0.531171  0.338883  0.531644  0.728815\n"
     ]
    }
   ],
   "source": [
    "# Berechnung des Mean Squared Error (MSE)\n",
    "mse_dt = mean_squared_error(y_test, y_pred_boosted_dt)\n",
    "mse_rf = mean_squared_error(y_test, y_pred_boosted_rf)\n",
    "mse_gb = mean_squared_error(y_test, y_pred_boosted_gb)\n",
    "mse_glm = mean_squared_error(y_test, y_pred_glm)\n",
    "\n",
    "# Berechnung von R^2\n",
    "r2_dt = r2_score(y_test, y_pred_boosted_dt)\n",
    "r2_rf = r2_score(y_test, y_pred_boosted_rf)\n",
    "r2_gb = r2_score(y_test, y_pred_boosted_gb)\n",
    "r2_glm = r2_score(y_test, y_pred_glm)\n",
    "\n",
    "# Berechnung des Mean Absolute Error (MAE)\n",
    "mae_dt = mean_absolute_error(y_test, y_pred_boosted_dt)\n",
    "mae_rf = mean_absolute_error(y_test, y_pred_boosted_rf)\n",
    "mae_gb = mean_absolute_error(y_test, y_pred_boosted_gb)\n",
    "mae_glm = mean_absolute_error(y_test, y_pred_glm)\n",
    "\n",
    "# Berechnung des Root Mean Squared Error (RMSE)\n",
    "rmse_dt = mean_squared_error(y_test, y_pred_boosted_dt, squared=False)\n",
    "rmse_rf = mean_squared_error(y_test, y_pred_boosted_rf, squared=False)\n",
    "rmse_gb = mean_squared_error(y_test, y_pred_boosted_gb, squared=False)\n",
    "rmse_glm = mean_squared_error(y_test, y_pred_glm, squared=False)\n",
    "\n",
    "\n",
    "models = ['Decision Tree', 'Random Forest', 'Gradient Boosting', 'GLM']\n",
    "\n",
    "# Berechnung der Metriken für die Modelle\n",
    "mse_scores = [mse_dt, mse_rf, mse_gb, mse_glm]\n",
    "r2_scores = [r2_dt, r2_rf, r2_gb, r2_glm]\n",
    "mae_scores = [mae_dt, mae_rf, mae_gb, mae_glm]\n",
    "rmse_scores = [rmse_dt, rmse_rf, rmse_gb, rmse_glm]\n",
    "\n",
    "# Erstellen eines DataFrames für die Ausgabe\n",
    "data = {'Model': models, 'MSE': mse_scores, 'R^2': r2_scores, 'MAE': mae_scores, 'RMSE': rmse_scores}\n",
    "metrics_df = pd.DataFrame(data)\n",
    "\n",
    "# Ausgabe der Metriken-Tabelle\n",
    "print(metrics_df)"
   ]
  },
  {
   "cell_type": "markdown",
   "metadata": {},
   "source": [
    "<font size=\"3\">\n",
    "Die Vorhersagen der Modelle werden visuell verglichen und dargestellt. Es wird eine Visualisierung erstellt, die die Beziehung zwischen den wahren (tatsächlichen) Werten und den geschätzten Werten für jedes Modell zeigt."
   ]
  },
  {
   "cell_type": "code",
   "execution_count": 42,
   "metadata": {},
   "outputs": [
    {
     "data": {
      "image/png": "[encoded data removed]",
      "text/plain": [
       "<Figure size 1500x500 with 4 Axes>"
      ]
     },
     "metadata": {},
     "output_type": "display_data"
    }
   ],
   "source": [
    "# Visualisierung der Vorhersagen\n",
    "fig_performance = plt.figure(tight_layout=True, figsize=(15, 5))\n",
    "spec = GridSpec(ncols=4, nrows=1, figure=fig_performance)\n",
    "axs_perf = [\n",
    "    fig_performance.add_subplot(spec[0, 0]),\n",
    "    fig_performance.add_subplot(spec[0, 1]),\n",
    "    fig_performance.add_subplot(spec[0, 2]),\n",
    "    fig_performance.add_subplot(spec[0, 3]),\n",
    "]\n",
    "\n",
    "# Scatterplots für die vier Modelle\n",
    "axs_perf[0].scatter(y_test, y_pred_boosted_dt, s=1)\n",
    "axs_perf[0].set_title(\"Decision Tree\")\n",
    "\n",
    "axs_perf[1].scatter(y_test, y_pred_boosted_rf, s=1)\n",
    "axs_perf[1].set_title(\"Random Forest\")\n",
    "\n",
    "axs_perf[2].scatter(y_test, y_pred_boosted_gb, s=1)\n",
    "axs_perf[2].set_title(\"Gradient Boosting\")\n",
    "\n",
    "axs_perf[3].scatter(y_test,  y_pred_glm, s=1)\n",
    "axs_perf[3].set_title(\"GLM\")\n",
    "\n",
    "# Gemeinsame Layout-Einstellungen\n",
    "for ax in axs_perf:\n",
    "    ax.set_xlabel(\"True value\")\n",
    "    ax.set_ylabel(\"Estimated value\")\n",
    "    ax.set_xlim((-4, 4))\n",
    "    ax.set_ylim((-4, 4))\n",
    "\n",
    "fig_performance.suptitle(\"Model Comparison: GLM vs. Boosted Models\")\n",
    "plt.show()"
   ]
  },
  {
   "cell_type": "markdown",
   "metadata": {},
   "source": [
    "<font size=\"3\">\n",
    "Die Ergebnisse der Modellbewertung zeigen signifikante Unterschiede in der Vorhersageleistung der verschiedenen Modelle. Die Metriken bieten Einblick in verschiedene Aspekte der Modellgenauigkeit.\n",
    "<br><br>\n",
    "\n",
    "### Entscheidungsbaum:\n",
    "Der Entscheidungsbaum erzielt eine bemerkenswert geringe mittlere quadratische Abweichung (MSE) von 0,000085, was darauf hindeutet, dass seine Vorhersagen sehr nahe an den tatsächlichen Werten liegen. Der R^2-Wert von 0,999893 bestätigt eine nahezu perfekte Anpassung an die Daten. Der mittlere absolute Fehler (MAE) und der mittlere quadratische Fehler (RMSE) sind mit 0,005447 bzw. 0,009203 ebenfalls sehr niedrig, was auf eine hohe Genauigkeit hinweist.\n",
    "<br><br>\n",
    "\n",
    "### Random Forest:\n",
    "Der Random Forest erreicht etwas höhere Werte für MSE, R^2, MAE und RMSE als der Decision Tree. Dies deutet darauf hin, dass der Random Forest etwas größere Schwankungen aufweist, aber dennoch eine sehr gute Vorhersagequalität besitzt.\n",
    "<br><br>\n",
    "\n",
    "### Gradient Boosting:\n",
    "Das Gradient Boosting Modell zeigt beeindruckende Ergebnisse mit einem außergewöhnlich niedrigen MSE von 0,000002 und einem nahezu perfekten R^2 von 0,999998. Sowohl das MAE als auch das RMSE sind mit 0,001014 bzw. 0,001388 extrem niedrig, was auf eine außergewöhnliche Genauigkeit hinweist. Dieses Modell übertrifft die anderen Modelle in allen Metriken.\n",
    "<br><br>\n",
    "\n",
    "### GLM (Generalisiertes lineares Modell):\n",
    "Im Vergleich zu den Boosting-Modellen schneidet das GLM weniger gut ab. Das hohe MSE von 0,528027 und das niedrige R^2 von 0,334215 deuten darauf hin, dass das GLM Schwierigkeiten hat, die Varianz der Daten zu erfassen. Sowohl MAE als auch RMSE sind höher, was auf größere Vorhersagefehler hinweist."
   ]
  },
  {
   "cell_type": "markdown",
   "metadata": {},
   "source": [
    "<hr>\n",
    "\n",
    "# 3. Datensatz 2: freMTPL2freq <a class=\"anchor\" id=\"3-bullet\"></a>\n",
    "<hr>"
   ]
  },
  {
   "cell_type": "markdown",
   "metadata": {},
   "source": [
    "<font size=\"3\">\n",
    "\n",
    "Nachdem der XGLMBoost-Ansatz zunächst anhand eines synthetischen Datensatzes erläutert wurde, wird er nun auf eine praktische Anwendung übertragen. In dieser Anwendung wird der freMTPL-Datensatz eingesetzt, der als gängiger Benchmark im Bereich der Aktuare anerkannt ist. Dieser Datensatz bietet Einblicke in Kfz-Haftpflichtversicherungen und die dazugehörigen Schadensmeldungen."
   ]
  },
  {
   "cell_type": "markdown",
   "metadata": {},
   "source": [
    "## 3.1 Vorverarbeitung <a class=\"anchor\" id=\"3_1-bullet\"></a>"
   ]
  },
  {
   "cell_type": "markdown",
   "metadata": {},
   "source": [
    "<font size=\"3\">\n",
    "Die Vorverarbeitung wurde von <a href=\"https://github.com/PK1706/pyLocalGLMnet\">pyLocalGLMnet</a> übernommen.<br>\n",
    "<ol>\n",
    "    <li><b>IDpol:</b> policy number (unique identiﬁer)</li>\n",
    "    <li><b>Exposure:</b> total exposure in yearly units (years-at-risk) and within (0, 1 ]</li>\n",
    "    <li><b>Area:</b> area code (categorical, ordinal with 6 levels)</li>\n",
    "    <li><b>VehPower:</b> power of the car (continuous)</li>\n",
    "    <li><b>VehAge</b> age of the car in years</li>\n",
    "    <li><b>DrivAge:</b> age of the (most common) driver in years</li>\n",
    "    <li><b>BonusMalus:</b> bonus-malus level between 50 and 230 (with entrance level 100)</li>\n",
    "    <li><b>VehBrand:</b> car brand (categorical, nominal with 11 levels)</li>\n",
    "    <li><b>VehGas:</b> diesel or regular fuel car (binary)</li>\n",
    "    <li><b>Density:</b> density of population per km 2 at the location of the living place of the driver</li>\n",
    "    <li><b>Region:</b> regions in France (prior to 2016)(categorical)</li>\n",
    "</ol>\n",
    "<br>\n"
   ]
  },
  {
   "cell_type": "code",
   "execution_count": 43,
   "metadata": {},
   "outputs": [],
   "source": [
    "current_folder = os.getcwd()\n",
    "\n",
    "data_path_freq = os.path.join(current_folder, '../data/freMTPL2freq.csv')\n",
    "data_path_sev = os.path.join(current_folder, '../data/freMTPL2sev.csv')"
   ]
  },
  {
   "cell_type": "code",
   "execution_count": 44,
   "metadata": {},
   "outputs": [],
   "source": [
    "# Enthält Kundendaten von einer Kfz-Haftpflichtversicherung\n",
    "freq = pd.read_csv(data_path_freq)\n",
    "\n",
    "# Claim Anzahl entfernen (Erklärung siehe [4] Listing B.1)\n",
    "freq = freq.drop(columns=[\"ClaimNb\"])\n",
    "freq[\"IDpol\"] = freq[\"IDpol\"].astype(\"int64\")"
   ]
  },
  {
   "cell_type": "code",
   "execution_count": 45,
   "metadata": {},
   "outputs": [],
   "source": [
    "# Enthält die Schadenshöhe für jeden Schaden\n",
    "sev = pd.read_csv(data_path_sev)\n",
    "\n",
    "# Schadenshöhe und Vorkommen nach Kunden-ID aggregieren\n",
    "sev_agg = sev\n",
    "sev_agg[\"ClaimNb\"] = 1\n",
    "sev_agg = sev_agg.groupby(\"IDpol\").sum()[[\"ClaimNb\", \"ClaimAmount\"]].reset_index()\n",
    "sev_agg = sev_agg.rename(columns={\"ClaimAmount\": \"ClaimTotal\"})"
   ]
  },
  {
   "cell_type": "code",
   "execution_count": 46,
   "metadata": {},
   "outputs": [],
   "source": [
    "# freq und sev zusammenführen --> Datensatz mit der korrekten Anzahl an Schadensmeldungen\n",
    "freq = freq.merge(sev_agg, on=\"IDpol\", how=\"left\")\n",
    "freq[\"ClaimNb\"] = freq[\"ClaimNb\"].fillna(0)\n",
    "freq[\"ClaimTotal\"] = freq[\"ClaimTotal\"].fillna(0)\n",
    "\n",
    "# Vehicle Brand als kategoriales Merkmal definieren um Reihenfolge der Brands festzulegen\n",
    "freq[\"VehBrand\"] = pd.Categorical(\n",
    "    freq[\"VehBrand\"],\n",
    "    categories=[\n",
    "        \"B1\",\n",
    "        \"B2\",\n",
    "        \"B3\",\n",
    "        \"B4\",\n",
    "        \"B5\",\n",
    "        \"B6\",\n",
    "        \"B7\",\n",
    "        \"B8\",\n",
    "        \"B9\",\n",
    "        \"B10\",\n",
    "        \"B11\",\n",
    "        \"B12\",\n",
    "        \"B13\",\n",
    "        \"B14\",\n",
    "    ],\n",
    ")\n",
    "\n",
    "# Area Codes einer Ordinalskala zuweisen (A=1, B=2,...)\n",
    "freq[\"Area\"] = pd.Categorical(freq[\"Area\"], categories=[\"A\", \"B\", \"C\", \"D\", \"E\", \"F\"])\n",
    "freq[\"Area\"] = freq[\"Area\"].cat.codes + 1\n",
    "freq = freq.rename(columns={\"Area\": \"AreaCode\"})\n",
    "\n",
    "# Binäre Variable \"VehGas\" den Codes 0 und 1 zuordnen (Diesel = 0, Regular = 1)\n",
    "freq[\"VehGas\"] = pd.Categorical(freq[\"VehGas\"], categories=[\"Diesel\", \"Regular\"])\n",
    "freq[\"VehGas\"] = freq[\"VehGas\"].cat.codes\n",
    "\n",
    "# Datentyp von ClaimNb und Region anpassen\n",
    "freq = freq.astype({\"ClaimNb\": \"int64\", \"Region\": \"category\"})\n",
    "\n",
    "# Alle Einträge mit mehr als 5 Schadensmeldungen entfernen:\n",
    "freq = freq[freq[\"ClaimNb\"] <= 5]\n",
    "\n",
    "# Exposure kann maximal 1 sein --> alle Beobachtungen mit höheren Werten auf 1 setzen:\n",
    "freq[\"Exposure\"] = freq[\"Exposure\"].clip(lower=0, upper=1)\n",
    "\n",
    "# Log(Density)\n",
    "freq[\"log_Density\"] = np.log(freq[\"Density\"])\n",
    "freq = freq.drop(columns=[\"Density\"])\n",
    "\n",
    "# Alle Einträge aus sev entfernen die jetzt nicht mehr in freq enthalten sind:\n",
    "sev = sev[sev[\"IDpol\"].isin(freq[\"IDpol\"])][[\"IDpol\", \"ClaimAmount\"]]"
   ]
  },
  {
   "cell_type": "code",
   "execution_count": 47,
   "metadata": {},
   "outputs": [
    {
     "data": {
      "text/html": [
       "<div>\n",
       "<style scoped>\n",
       "    .dataframe tbody tr th:only-of-type {\n",
       "        vertical-align: middle;\n",
       "    }\n",
       "\n",
       "    .dataframe tbody tr th {\n",
       "        vertical-align: top;\n",
       "    }\n",
       "\n",
       "    .dataframe thead th {\n",
       "        text-align: right;\n",
       "    }\n",
       "</style>\n",
       "<table border=\"1\" class=\"dataframe\">\n",
       "  <thead>\n",
       "    <tr style=\"text-align: right;\">\n",
       "      <th></th>\n",
       "      <th>IDpol</th>\n",
       "      <th>Exposure</th>\n",
       "      <th>AreaCode</th>\n",
       "      <th>VehPower</th>\n",
       "      <th>VehAge</th>\n",
       "      <th>DrivAge</th>\n",
       "      <th>BonusMalus</th>\n",
       "      <th>VehBrand</th>\n",
       "      <th>VehGas</th>\n",
       "      <th>Region</th>\n",
       "      <th>ClaimNb</th>\n",
       "      <th>ClaimTotal</th>\n",
       "      <th>log_Density</th>\n",
       "    </tr>\n",
       "  </thead>\n",
       "  <tbody>\n",
       "    <tr>\n",
       "      <th>0</th>\n",
       "      <td>1</td>\n",
       "      <td>0.10</td>\n",
       "      <td>4</td>\n",
       "      <td>5</td>\n",
       "      <td>0</td>\n",
       "      <td>55</td>\n",
       "      <td>50</td>\n",
       "      <td>B12</td>\n",
       "      <td>1</td>\n",
       "      <td>R82</td>\n",
       "      <td>0</td>\n",
       "      <td>0.0</td>\n",
       "      <td>7.104144</td>\n",
       "    </tr>\n",
       "    <tr>\n",
       "      <th>1</th>\n",
       "      <td>3</td>\n",
       "      <td>0.77</td>\n",
       "      <td>4</td>\n",
       "      <td>5</td>\n",
       "      <td>0</td>\n",
       "      <td>55</td>\n",
       "      <td>50</td>\n",
       "      <td>B12</td>\n",
       "      <td>1</td>\n",
       "      <td>R82</td>\n",
       "      <td>0</td>\n",
       "      <td>0.0</td>\n",
       "      <td>7.104144</td>\n",
       "    </tr>\n",
       "    <tr>\n",
       "      <th>2</th>\n",
       "      <td>5</td>\n",
       "      <td>0.75</td>\n",
       "      <td>2</td>\n",
       "      <td>6</td>\n",
       "      <td>2</td>\n",
       "      <td>52</td>\n",
       "      <td>50</td>\n",
       "      <td>B12</td>\n",
       "      <td>0</td>\n",
       "      <td>R22</td>\n",
       "      <td>0</td>\n",
       "      <td>0.0</td>\n",
       "      <td>3.988984</td>\n",
       "    </tr>\n",
       "    <tr>\n",
       "      <th>3</th>\n",
       "      <td>10</td>\n",
       "      <td>0.09</td>\n",
       "      <td>2</td>\n",
       "      <td>7</td>\n",
       "      <td>0</td>\n",
       "      <td>46</td>\n",
       "      <td>50</td>\n",
       "      <td>B12</td>\n",
       "      <td>0</td>\n",
       "      <td>R72</td>\n",
       "      <td>0</td>\n",
       "      <td>0.0</td>\n",
       "      <td>4.330733</td>\n",
       "    </tr>\n",
       "    <tr>\n",
       "      <th>4</th>\n",
       "      <td>11</td>\n",
       "      <td>0.84</td>\n",
       "      <td>2</td>\n",
       "      <td>7</td>\n",
       "      <td>0</td>\n",
       "      <td>46</td>\n",
       "      <td>50</td>\n",
       "      <td>B12</td>\n",
       "      <td>0</td>\n",
       "      <td>R72</td>\n",
       "      <td>0</td>\n",
       "      <td>0.0</td>\n",
       "      <td>4.330733</td>\n",
       "    </tr>\n",
       "  </tbody>\n",
       "</table>\n",
       "</div>"
      ],
      "text/plain": [
       "   IDpol  Exposure  AreaCode  VehPower  VehAge  DrivAge  BonusMalus VehBrand  \\\n",
       "0      1      0.10         4         5       0       55          50      B12   \n",
       "1      3      0.77         4         5       0       55          50      B12   \n",
       "2      5      0.75         2         6       2       52          50      B12   \n",
       "3     10      0.09         2         7       0       46          50      B12   \n",
       "4     11      0.84         2         7       0       46          50      B12   \n",
       "\n",
       "   VehGas Region  ClaimNb  ClaimTotal  log_Density  \n",
       "0       1    R82        0         0.0     7.104144  \n",
       "1       1    R82        0         0.0     7.104144  \n",
       "2       0    R22        0         0.0     3.988984  \n",
       "3       0    R72        0         0.0     4.330733  \n",
       "4       0    R72        0         0.0     4.330733  "
      ]
     },
     "execution_count": 47,
     "metadata": {},
     "output_type": "execute_result"
    }
   ],
   "source": [
    "freq.head()"
   ]
  },
  {
   "cell_type": "code",
   "execution_count": 48,
   "metadata": {},
   "outputs": [
    {
     "data": {
      "text/html": [
       "<div>\n",
       "<style scoped>\n",
       "    .dataframe tbody tr th:only-of-type {\n",
       "        vertical-align: middle;\n",
       "    }\n",
       "\n",
       "    .dataframe tbody tr th {\n",
       "        vertical-align: top;\n",
       "    }\n",
       "\n",
       "    .dataframe thead th {\n",
       "        text-align: right;\n",
       "    }\n",
       "</style>\n",
       "<table border=\"1\" class=\"dataframe\">\n",
       "  <thead>\n",
       "    <tr style=\"text-align: right;\">\n",
       "      <th></th>\n",
       "      <th>IDpol</th>\n",
       "      <th>ClaimAmount</th>\n",
       "    </tr>\n",
       "  </thead>\n",
       "  <tbody>\n",
       "    <tr>\n",
       "      <th>0</th>\n",
       "      <td>1552</td>\n",
       "      <td>995.20</td>\n",
       "    </tr>\n",
       "    <tr>\n",
       "      <th>1</th>\n",
       "      <td>1010996</td>\n",
       "      <td>1128.12</td>\n",
       "    </tr>\n",
       "    <tr>\n",
       "      <th>2</th>\n",
       "      <td>4024277</td>\n",
       "      <td>1851.11</td>\n",
       "    </tr>\n",
       "    <tr>\n",
       "      <th>3</th>\n",
       "      <td>4007252</td>\n",
       "      <td>1204.00</td>\n",
       "    </tr>\n",
       "    <tr>\n",
       "      <th>4</th>\n",
       "      <td>4046424</td>\n",
       "      <td>1204.00</td>\n",
       "    </tr>\n",
       "  </tbody>\n",
       "</table>\n",
       "</div>"
      ],
      "text/plain": [
       "     IDpol  ClaimAmount\n",
       "0     1552       995.20\n",
       "1  1010996      1128.12\n",
       "2  4024277      1851.11\n",
       "3  4007252      1204.00\n",
       "4  4046424      1204.00"
      ]
     },
     "execution_count": 48,
     "metadata": {},
     "output_type": "execute_result"
    }
   ],
   "source": [
    "sev.head()"
   ]
  },
  {
   "cell_type": "code",
   "execution_count": 49,
   "metadata": {},
   "outputs": [],
   "source": [
    "# Kategoriale Merkmale One-Hot Encoden (k-Kategorien führen zu k-1 Spalten)\n",
    "categorical_columns = [\"VehBrand\", \"Region\"]\n",
    "freq = pd.get_dummies(freq, columns=categorical_columns, drop_first=False)"
   ]
  },
  {
   "cell_type": "code",
   "execution_count": 50,
   "metadata": {},
   "outputs": [],
   "source": [
    "# Datensatz in Merkmale x und Zielvariable y aufteilen\n",
    "y_freq = freq[\"ClaimNb\"]\n",
    "x_freq = freq.drop(columns=[\"IDpol\", \"ClaimNb\", \"ClaimTotal\"])"
   ]
  },
  {
   "cell_type": "code",
   "execution_count": 51,
   "metadata": {},
   "outputs": [],
   "source": [
    "# Aufteilen in Trainings- und Testdaten\n",
    "x_freq_train, x_freq_test, y_freq_train, y_freq_test = train_test_split(\n",
    "    x_freq, y_freq, test_size=0.1\n",
    ")\n",
    "\n",
    "# Exposures getrennt speichern\n",
    "exposures_train = x_freq_train[\"Exposure\"]\n",
    "exposures_test = x_freq_test[\"Exposure\"]\n",
    "\n",
    "x_freq_train = x_freq_train.drop(columns=[\"Exposure\"])\n",
    "x_freq_test = x_freq_test.drop(columns=[\"Exposure\"])"
   ]
  },
  {
   "cell_type": "code",
   "execution_count": 52,
   "metadata": {},
   "outputs": [],
   "source": [
    "# Stetige und binäre Merkmale standardisieren:\n",
    "continuous_columns = [\n",
    "    \"AreaCode\",\n",
    "    \"BonusMalus\",\n",
    "    \"log_Density\",\n",
    "    \"DrivAge\",\n",
    "    \"VehAge\",\n",
    "    \"VehPower\",\n",
    "]\n",
    "binary_columns = [\"VehGas\"]\n",
    "\n",
    "x_freq_train_sc = x_freq_train.copy()\n",
    "x_freq_test_sc = x_freq_test.copy()\n",
    "\n",
    "# Trainings- und Testdatensatz werden getrennt standardisiert, um Information Leakage der Testdaten zu verhindern\n",
    "scaler_freq = StandardScaler()\n",
    "x_freq_train_sc[continuous_columns + binary_columns] = scaler_freq.fit_transform(\n",
    "    x_freq_train_sc[continuous_columns + binary_columns]\n",
    ")\n",
    "x_freq_test_sc[continuous_columns + binary_columns] = scaler_freq.transform(\n",
    "    x_freq_test_sc[continuous_columns + binary_columns]\n",
    ")"
   ]
  },
  {
   "cell_type": "markdown",
   "metadata": {},
   "source": [
    "## 3.2 XGLMBoost <a class=\"anchor\" id=\"3_2-bullet\"></a>"
   ]
  },
  {
   "cell_type": "markdown",
   "metadata": {},
   "source": [
    "<font size=\"3\">\n",
    "Der Aufbau von XGLMBoost ähnelt dem des synthetischen Datensatzes. Da es sich jedoch um die Vorhersage von Zähldaten handelt, wird in diesem Fall eine Poisson-GLM anstelle einer klassischen linearen Regression in der Antwortschicht verwendet.\n",
    "Außerdem wird nur das am besten abschneidende Gradient Boosting-Modell verwendet."
   ]
  },
  {
   "cell_type": "code",
   "execution_count": 53,
   "metadata": {},
   "outputs": [],
   "source": [
    "# Erstelle ein Poisson Regressor (GLM) Modell\n",
    "glm = PoissonRegressor()\n",
    "glm.fit(x_freq_train_sc, y_freq_train)\n",
    "y_pred_glm_train = glm.predict(x_freq_train_sc)\n",
    "y_pred_glm_test = glm.predict(x_freq_test_sc)"
   ]
  },
  {
   "cell_type": "code",
   "execution_count": 54,
   "metadata": {},
   "outputs": [],
   "source": [
    "# Residuen berechnen\n",
    "residuals_train = y_freq_train - y_pred_glm_train\n",
    "residuals_test = y_freq_test - y_pred_glm_test"
   ]
  },
  {
   "cell_type": "code",
   "execution_count": 55,
   "metadata": {},
   "outputs": [],
   "source": [
    "# Initialisiere Arrays für die Vorhersagen\n",
    "boosted_predictions_gb_train = np.zeros_like(y_pred_glm_train)\n",
    "boosted_predictions_gb_test = np.zeros_like(y_pred_glm_test)\n",
    "\n",
    "n_iterations = 10  # Anzahl der Boosting-Iterationen\n",
    "learning_rate = 0.5  # Lernrate"
   ]
  },
  {
   "cell_type": "code",
   "execution_count": 56,
   "metadata": {},
   "outputs": [],
   "source": [
    "# Boosting-Schleife Gradient Boosting\n",
    "for i in range(n_iterations):\n",
    "    # Gradient Boosting-Modell initialisieren\n",
    "    boosting_model_gb = GradientBoostingRegressor(n_estimators=1, learning_rate=learning_rate, max_depth=10)\n",
    "    \n",
    "    # Modell auf den Residuen trainieren\n",
    "    boosting_model_gb.fit(x_freq_train_sc, residuals_train)\n",
    "    \n",
    "    # Vorhersagen des Gradient Boosting-Modells für die Trainingsdaten\n",
    "    boosted_residuals_gb_train = boosting_model_gb.predict(x_freq_train_sc)\n",
    "    boosted_residuals_gb_test = boosting_model_gb.predict(x_freq_test_sc)\n",
    "    \n",
    "    # Boosted Residuen aktualisieren\n",
    "    boosted_predictions_gb_train += learning_rate * boosted_residuals_gb_train\n",
    "    boosted_predictions_gb_test += learning_rate * boosted_residuals_gb_test\n",
    "\n",
    "    # Aktualisierung der Residuen\n",
    "    residuals_train = y_freq_train - y_pred_glm_train - boosted_predictions_gb_train\n",
    "    residuals_test = y_freq_test - y_pred_glm_test - boosted_predictions_gb_test\n",
    "\n",
    "# Vorhersagen des Gradient Boosting-Modells\n",
    "y_pred_boosted_gb_train = y_pred_glm_train + boosted_predictions_gb_train\n",
    "y_pred_boosted_gb_test = y_pred_glm_test + boosted_predictions_gb_test"
   ]
  },
  {
   "cell_type": "markdown",
   "metadata": {},
   "source": [
    "## 3.3 Auswertung <a class=\"anchor\" id=\"3_3-bullet\"></a>"
   ]
  },
  {
   "cell_type": "code",
   "execution_count": 57,
   "metadata": {},
   "outputs": [
    {
     "data": {
      "image/png": "[encoded data removed]",
      "text/plain": [
       "<Figure size 1000x500 with 2 Axes>"
      ]
     },
     "metadata": {},
     "output_type": "display_data"
    },
    {
     "name": "stdout",
     "output_type": "stream",
     "text": [
      "       Model       MSE       R^2       MAE      RMSE\n",
      "0  XGLMBoost  0.041152  0.009601  0.073685  0.202860\n",
      "1        GLM  0.041534  0.000417  0.074806  0.203799\n"
     ]
    }
   ],
   "source": [
    "# Visualisierung der Vorhersagen\n",
    "fig_performance = plt.figure(tight_layout=True, figsize=(10, 5))\n",
    "spec = GridSpec(ncols=2, nrows=1, figure=fig_performance)\n",
    "axs_perf = [\n",
    "    fig_performance.add_subplot(spec[0, 0:1]),\n",
    "    fig_performance.add_subplot(spec[0, 1:2]),\n",
    "]\n",
    "\n",
    "axs_perf[0].scatter(y_freq_test, y_pred_boosted_gb_test, s=1)\n",
    "axs_perf[1].scatter(y_freq_test, y_pred_glm_test, s=1)\n",
    "\n",
    "# Layout\n",
    "for ax in axs_perf:\n",
    "    ax.set_xlabel(\"True value\")\n",
    "    ax.set_ylabel(\"Estimated value\")\n",
    "    ax.set_xlim((-4, 4))\n",
    "    ax.set_ylim((-4, 4))\n",
    "\n",
    "fig_performance.suptitle(\"XGLMBoost vs. GLM\")\n",
    "plt.show()\n",
    "\n",
    "metrics_data = {\n",
    "    \"Model\": [\"XGLMBoost\", \"GLM\"],\n",
    "    \"MSE\": [mean_squared_error(y_freq_test, y_pred_boosted_gb_test), mean_squared_error(y_freq_test, y_pred_glm_test)],\n",
    "    \"R^2\": [r2_score(y_freq_test, y_pred_boosted_gb_test), r2_score(y_freq_test, y_pred_glm_test)],\n",
    "    \"MAE\": [mean_absolute_error(y_freq_test, y_pred_boosted_gb_test), mean_absolute_error(y_freq_test, y_pred_glm_test)],\n",
    "    \"RMSE\": [np.sqrt(mean_squared_error(y_freq_test, y_pred_boosted_gb_test)), np.sqrt(mean_squared_error(y_freq_test, y_pred_glm_test))]\n",
    "}\n",
    "\n",
    "# Create DataFrame\n",
    "metrics_df = pd.DataFrame(metrics_data)\n",
    "\n",
    "# Print metrics in a tabular format\n",
    "print(metrics_df)"
   ]
  },
  {
   "cell_type": "markdown",
   "metadata": {},
   "source": [
    "<font size=\"3\">\n",
    "Die Ergebnisse zeigen, dass der XGLMBoost-Ansatz zwar geringfügig besser abschneidet, aber noch weiter optimiert werden muss."
   ]
  },
  {
   "cell_type": "markdown",
   "metadata": {},
   "source": [
    "<hr>\n",
    "\n",
    "# 4. Zusammenfassung <a class=\"anchor\" id=\"4-bullet\"></a>\n",
    "\n",
    "<hr>"
   ]
  },
  {
   "cell_type": "markdown",
   "metadata": {},
   "source": [
    "<font size=\"3\">\n",
    "Das Projekt wurde mit dem Ziel gestartet, die Erklärbarkeit eines Generalisierten Linearen Modells (GLM) mittels Boosting zu verbessern. Die ersten Ergebnisse waren vielversprechend und zeigten, dass die Verwendung von Boosting die Leistung des GLM verbessern kann. Das Thema ist jedoch noch nicht komplett abgeschlossen und blieb unvollendet.\n",
    "<br><br>\n",
    "Ein wichtiger Aspekt des Projekts war die Optimierung der Hyperparameter, um das Modell zu verfeinern. Leider erwies sich dieser Prozess als schwierig, da die begrenzte Rechenleistung und die lange Kompilierungszeit die Anwendung effizienter Optimierungsmethoden wie Grid Search, Random Search und Bayesian Optimization verhinderten.\n",
    "<br><br>\n",
    "Trotz intensiver Bemühungen und der Investition von mehreren tausend Rechenminuten blieben die Ergebnisse der Hyperparameteroptimierung aus. Dies führte zu einer Erkenntnis über die Komplexität und technische Tiefe des scheinbar einfachen Konzepts. Die Unterschätzung dieser Tiefe und der Zeitdruck beeinflussten die Fertigstellung des Projektes.\n",
    "<br><br>\n",
    "Insgesamt spiegelt das Projekt die Herausforderungen und Lernprozesse wider, die mit der Umsetzung von Konzepten in die Praxis einhergehen. Es hat vielleicht nicht alle gesetzten Ziele erreicht, bietet aber wertvolle Einblicke und Erkenntnisse für zukünftige Bemühungen. Die Unzufriedenheit mit den Ergebnissen zeigt den Bedarf an Qualität und tieferem Verständnis, und die Projektziele können in Zukunft weiter verfolgt werden."
   ]
  }
 ],
 "metadata": {
  "kernelspec": {
   "display_name": "Pyhton 3.9.6 (XGLMBoost)",
   "language": "python",
   "name": "xglmboost"
  },
  "language_info": {
   "codemirror_mode": {
    "name": "ipython",
    "version": 3
   },
   "file_extension": ".py",
   "mimetype": "text/x-python",
   "name": "python",
   "nbconvert_exporter": "python",
   "pygments_lexer": "ipython3",
   "version": "3.9.6"
  },
  "orig_nbformat": 4
 },
 "nbformat": 4,
 "nbformat_minor": 2
}
